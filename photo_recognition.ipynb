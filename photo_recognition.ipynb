{
 "cells": [
  {
   "cell_type": "markdown",
   "metadata": {},
   "source": [
    "# Classification of Photo Taken with Cam"
   ]
  },
  {
   "cell_type": "code",
   "execution_count": 1,
   "metadata": {},
   "outputs": [],
   "source": [
    "import cv2 as cv\n",
    "import pickle as pk\n",
    "import numpy as np\n",
    "with open('let_KNN_clf.pickle','rb') as f:\n",
    "    let_KNN_clf = pk.load(f)\n",
    "with open('dig_KNN_clf.pickle','rb') as f:\n",
    "    dig_KNN_clf = pk.load(f)\n",
    "with open('dig_MLP_clf.pickle','rb') as f:\n",
    "    dig_MLP_clf = pk.load(f)\n",
    "with open('let_MLP_clf.pickle', 'rb') as f:\n",
    "    let_MLP_clf = pk.load(f)\n",
    "with open('bal_MLP_clf.pickle','rb') as f:\n",
    "    bal_MLP_clf = pk.load(f)\n",
    "with open('dig_MLP_clf_hog.pickle', 'rb') as f:\n",
    "    dig_MLP_clf_hog = pk.load(f)\n"
   ]
  },
  {
   "cell_type": "code",
   "execution_count": 2,
   "metadata": {},
   "outputs": [],
   "source": [
    "def get_roi_all(image): \n",
    "    ''' find objects in image, return vector of segmented images and respective rectangles'''\n",
    "    padding = 15\n",
    "    # find contours\n",
    "    image = cv.GaussianBlur(image,(5,5),1)\n",
    "    ret, image = cv.threshold(image, 90, 255, cv.THRESH_BINARY_INV)\n",
    "    ctrs, hier = cv.findContours(image.copy(), cv.RETR_EXTERNAL, cv.CHAIN_APPROX_SIMPLE)\n",
    "    # find rectangles\n",
    "    rects = [cv.boundingRect(ctr) for ctr in ctrs]\n",
    "    #copy each object to image vector\n",
    "    im_vec = [image[rect[1]-padding:rect[1]+rect[3]+padding, rect[0]-padding:rect[0]+rect[2]+padding] for rect in rects]\n",
    "    return im_vec, rects\n",
    "\n",
    "def draw_named_rect(image, rectangle, text):\n",
    "    '''draw rectangle and name it'''\n",
    "    rect = rectangle\n",
    "    img = image\n",
    "    cv.rectangle(img, (rect[0],rect[1]),(rect[0]+rect[2],rect[1]+rect[3]), 0, 1)\n",
    "    cv.putText(img, text,(rect[0],rect[1]-10), cv.FONT_HERSHEY_SIMPLEX, 0.9,0, 1)\n",
    "    return img\n",
    "      \n",
    "def adjust_img(image, width, height):\n",
    "    ''' apply lowpass filter to image and resize to (height, width)'''\n",
    "    image = cv.resize(image, dsize = (height,width),interpolation=cv.INTER_AREA)\n",
    "    image_vec = image.reshape(1,-1)\n",
    "    return image_vec\n",
    "\n",
    "def pred_character(classifier, im_vec, target):\n",
    "    '''classifies object and returns ascii code'''\n",
    "    #dictionary to look up class and character\n",
    "    balanced_dict = dict(zip([i for i in range(0,47)],\n",
    "                        [str(i) for i in range(0,10)]+['A','B','C','D','E','F','G',\n",
    "                                                      'H','I','J','K','L','M','N','O',\n",
    "                                                      'P','Q','R','S','T','U','V','W',\n",
    "                                                      'X','Y','Z']+['a','b','d','e','f',\n",
    "                                                                    'g','h','n','q','r','t']))\n",
    "    offset = 0\n",
    "    pred  = classifier.predict(np.array(im_vec, 'float64'))\n",
    "   # import pdb\n",
    "   # pdb.set_trace()\n",
    "    # set character depending on target_type\n",
    "    if target== 'digits' or target == 'all':\n",
    "        pred_char = balanced_dict[pred[0]]\n",
    "    elif target == 'letters':\n",
    "        #classes from 1 to 26 (upper + lower case in one class)\n",
    "        offset = 64 # A --> 65\n",
    "    else:\n",
    "        raise ValueError('target must be \"digits\", \"all\" or \"letters\"')\n",
    "    return pred, pred_char\n",
    "\n",
    "def start(clf, target_type):\n",
    "    '''predict digit,and display classification\n",
    "    '''\n",
    "    im = cv.imread('letters_digits.jpg',cv.IMREAD_GRAYSCALE)\n",
    "    # find the character in image\n",
    "    images_roi, rects = get_roi_all(im)\n",
    "\n",
    "    for idx, rect in enumerate(rects):\n",
    "        # fit the image to data set\n",
    "        im_vec = adjust_img(images_roi[idx], 28 ,28)\n",
    "        #predict and return ascii code\n",
    "        pred, pred_char = pred_character(clf, im_vec, target_type)\n",
    "        #draw classification\n",
    "        #im = draw_named_rect(im, rect, chr(pred_ascii))\n",
    "        im = draw_named_rect(im, rect, pred_char)\n",
    "    cv.imshow('s', im)\n",
    "    cv.waitKey(0)\n",
    "    cv.destroyAllWindows()\n"
   ]
  },
  {
   "cell_type": "code",
   "execution_count": 3,
   "metadata": {},
   "outputs": [],
   "source": [
    "start(bal_MLP_clf, 'all')"
   ]
  },
  {
   "cell_type": "code",
   "execution_count": null,
   "metadata": {},
   "outputs": [],
   "source": []
  }
 ],
 "metadata": {
  "kernelspec": {
   "display_name": "Python 3",
   "language": "python",
   "name": "python3"
  },
  "language_info": {
   "codemirror_mode": {
    "name": "ipython",
    "version": 3
   },
   "file_extension": ".py",
   "mimetype": "text/x-python",
   "name": "python",
   "nbconvert_exporter": "python",
   "pygments_lexer": "ipython3",
   "version": "3.8.2"
  }
 },
 "nbformat": 4,
 "nbformat_minor": 4
}
