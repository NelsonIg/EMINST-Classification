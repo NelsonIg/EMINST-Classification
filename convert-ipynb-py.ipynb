{
 "cells": [
  {
   "cell_type": "code",
   "execution_count": 1,
   "metadata": {},
   "outputs": [
    {
     "name": "stderr",
     "output_type": "stream",
     "text": [
      "[NbConvertApp] Converting notebook user_interface.ipynb to script\n",
      "[NbConvertApp] Writing 8787 bytes to user_interface.py\n"
     ]
    }
   ],
   "source": [
    "!jupyter nbconvert --to script user_interface.ipynb\n",
    "#!jupyter nbconvert --to script user_interface_hog.ipynb"
   ]
  }
 ],
 "metadata": {
  "kernelspec": {
   "display_name": "Python 3",
   "language": "python",
   "name": "python3"
  },
  "language_info": {
   "codemirror_mode": {
    "name": "ipython",
    "version": 3
   },
   "file_extension": ".py",
   "mimetype": "text/x-python",
   "name": "python",
   "nbconvert_exporter": "python",
   "pygments_lexer": "ipython3",
   "version": "3.8.2"
  }
 },
 "nbformat": 4,
 "nbformat_minor": 4
}
