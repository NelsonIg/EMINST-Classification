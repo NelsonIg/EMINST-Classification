{
 "cells": [
  {
   "cell_type": "markdown",
   "metadata": {},
   "source": [
    "# Test Classifiers and GUI"
   ]
  },
  {
   "cell_type": "code",
   "execution_count": 1,
   "metadata": {},
   "outputs": [],
   "source": [
    "import user_interface as ui\n",
    "#import user_interface_hog as ui_hog\n",
    "import pickle as pk\n",
    "\n",
    "with open('let_KNN_clf.pickle','rb') as f:\n",
    "    let_KNN_clf = pk.load(f)\n",
    "with open('dig_KNN_clf.pickle','rb') as f:\n",
    "    dig_KNN_clf = pk.load(f)\n",
    "with open('dig_MLP_clf.pickle','rb') as f:\n",
    "    dig_MLP_clf = pk.load(f)\n",
    "with open('let_MLP_clf.pickle', 'rb') as f:\n",
    "    let_MLP_clf = pk.load(f)\n",
    "with open('dig_MLP_clf_hog.pickle', 'rb') as f:\n",
    "    dig_MLP_clf_hog = pk.load(f)\n"
   ]
  },
  {
   "cell_type": "code",
   "execution_count": 4,
   "metadata": {
    "scrolled": false
   },
   "outputs": [],
   "source": [
    "ui.Gui.start(dig_MLP_clf_hog, 'digits', hog=True)\n",
    "#ui.Gui.start(dig_MLP_clf_hog, 'digits', hog=True)"
   ]
  },
  {
   "cell_type": "code",
   "execution_count": null,
   "metadata": {},
   "outputs": [],
   "source": []
  }
 ],
 "metadata": {
  "kernelspec": {
   "display_name": "Python 3",
   "language": "python",
   "name": "python3"
  },
  "language_info": {
   "codemirror_mode": {
    "name": "ipython",
    "version": 3
   },
   "file_extension": ".py",
   "mimetype": "text/x-python",
   "name": "python",
   "nbconvert_exporter": "python",
   "pygments_lexer": "ipython3",
   "version": "3.8.2"
  }
 },
 "nbformat": 4,
 "nbformat_minor": 4
}
