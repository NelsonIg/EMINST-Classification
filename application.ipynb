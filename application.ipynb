{
 "cells": [
  {
   "cell_type": "markdown",
   "metadata": {},
   "source": [
    "# Test Classifiers and GUI"
   ]
  },
  {
   "cell_type": "code",
   "execution_count": 6,
   "metadata": {},
   "outputs": [],
   "source": [
    "import user_interface as ui\n",
    "import pickle as pk\n",
    "\n",
    "with open('let_KNN_clf.pickle','rb') as f:\n",
    "    let_KNN_clf = pk.load(f)\n",
    "with open('dig_KNN_clf.pickle','rb') as f:\n",
    "    dig_KNN_clf = pk.load(f)\n",
    "with open('dig_MLP_clf.pickle','rb') as f:\n",
    "    dig_MLP_clf = pk.load(f)\n",
    "with open('let_MLP_clf.pickle', 'rb') as f:\n",
    "    let_MLP_clf = pk.load(f)\n",
    "with open('dig_MLP_clf_hog.pickle', 'rb') as f:\n",
    "    dig_MLP_clf_hog = pk.load(f)\n"
   ]
  },
  {
   "cell_type": "code",
   "execution_count": 7,
   "metadata": {
    "scrolled": false
   },
   "outputs": [
    {
     "name": "stderr",
     "output_type": "stream",
     "text": [
      "Exception in Tkinter callback\n",
      "Traceback (most recent call last):\n",
      "  File \"C:\\Users\\nelso\\Anaconda3\\envs\\ML_BHT\\lib\\tkinter\\__init__.py\", line 1883, in __call__\n",
      "    return self.func(*args)\n",
      "  File \"C:\\Users\\nelso\\Documents\\G_Drive\\Master\\BHT_ICE\\MasterKoloquium\\B\\EMNIST\\user_interface.py\", line 120, in __predict\n",
      "    pred  = cls.__clf.predict(im_vec)\n",
      "  File \"C:\\Users\\nelso\\Anaconda3\\envs\\ML_BHT\\lib\\site-packages\\sklearn\\neural_network\\_multilayer_perceptron.py\", line 1004, in predict\n",
      "    y_pred = self._predict(X)\n",
      "  File \"C:\\Users\\nelso\\Anaconda3\\envs\\ML_BHT\\lib\\site-packages\\sklearn\\neural_network\\_multilayer_perceptron.py\", line 699, in _predict\n",
      "    self._forward_pass(activations)\n",
      "  File \"C:\\Users\\nelso\\Anaconda3\\envs\\ML_BHT\\lib\\site-packages\\sklearn\\neural_network\\_multilayer_perceptron.py\", line 104, in _forward_pass\n",
      "    activations[i + 1] = safe_sparse_dot(activations[i],\n",
      "  File \"C:\\Users\\nelso\\Anaconda3\\envs\\ML_BHT\\lib\\site-packages\\sklearn\\utils\\extmath.py\", line 151, in safe_sparse_dot\n",
      "    ret = a @ b\n",
      "ValueError: matmul: Input operand 1 has a mismatch in its core dimension 0, with gufunc signature (n?,k),(k,m?)->(n?,m?) (size 36 is different from 784)\n"
     ]
    },
    {
     "data": {
      "image/png": "[encoded data removed]",
      "text/plain": [
       "<Figure size 432x288 with 1 Axes>"
      ]
     },
     "metadata": {
      "needs_background": "light"
     },
     "output_type": "display_data"
    }
   ],
   "source": [
    "ui.Gui.start(dig_MLP_clf_hog, 'digits')"
   ]
  },
  {
   "cell_type": "code",
   "execution_count": null,
   "metadata": {},
   "outputs": [],
   "source": []
  }
 ],
 "metadata": {
  "kernelspec": {
   "display_name": "Python 3",
   "language": "python",
   "name": "python3"
  },
  "language_info": {
   "codemirror_mode": {
    "name": "ipython",
    "version": 3
   },
   "file_extension": ".py",
   "mimetype": "text/x-python",
   "name": "python",
   "nbconvert_exporter": "python",
   "pygments_lexer": "ipython3",
   "version": "3.8.2"
  }
 },
 "nbformat": 4,
 "nbformat_minor": 4
}
