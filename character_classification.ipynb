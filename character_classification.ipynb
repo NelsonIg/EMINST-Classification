{
 "cells": [
  {
   "cell_type": "markdown",
   "metadata": {},
   "source": [
    "# Master Colloqium - Character Recognition"
   ]
  },
  {
   "cell_type": "code",
   "execution_count": 1,
   "metadata": {},
   "outputs": [],
   "source": [
    "#!pip install emnist\n",
    "#!python -c \"import emnist; emnist.ensure_cached_data()\""
   ]
  },
  {
   "cell_type": "code",
   "execution_count": 190,
   "metadata": {},
   "outputs": [],
   "source": [
    "from emnist import extract_training_samples, extract_test_samples, list_datasets\n",
    "from sklearn.neural_network import MLPClassifier\n",
    "from sklearn.metrics import classification_report\n",
    "from sklearn.neighbors import KNeighborsClassifier\n",
    "from sklearn.pipeline import Pipeline\n",
    "from sklearn.model_selection import train_test_split, GridSearchCV\n",
    "import numpy as np\n",
    "import matplotlib.pyplot as plt\n",
    "import pickle as pk"
   ]
  },
  {
   "cell_type": "markdown",
   "metadata": {},
   "source": [
    "## Data Sets"
   ]
  },
  {
   "cell_type": "code",
   "execution_count": 2,
   "metadata": {},
   "outputs": [],
   "source": [
    "# Defining data sets\n",
    "#digits only\n",
    "dig_im_train, dig_y_train = extract_training_samples('digits')\n",
    "dig_im_test, dig_y_test = extract_test_samples('digits')\n",
    "#letters only\n",
    "let_im_train, let_y_train = extract_training_samples('letters')\n",
    "let_im_test, let_y_test = extract_test_samples('letters')"
   ]
  },
  {
   "cell_type": "markdown",
   "metadata": {},
   "source": [
    "Reshape images to vectors"
   ]
  },
  {
   "cell_type": "code",
   "execution_count": 5,
   "metadata": {},
   "outputs": [
    {
     "name": "stdout",
     "output_type": "stream",
     "text": [
      "(240000, 784) (40000, 784)\n",
      "(124800, 784) (20800, 784)\n"
     ]
    }
   ],
   "source": [
    "#digit vectors\n",
    "dig_X_train = dig_im_train[:].reshape(dig_im_train.shape[0],dig_im_train.shape[1]**2)\n",
    "dig_X_test = dig_im_test[:].reshape(dig_im_test.shape[0],dig_im_test.shape[1]**2)\n",
    "print(dig_X_train.shape, dig_X_test.shape)\n",
    "#letter vectors\n",
    "let_X_train = let_im_train[:].reshape(let_im_train.shape[0],let_im_train.shape[1]**2)\n",
    "let_X_test = let_im_test[:].reshape(let_im_test.shape[0],let_im_test.shape[1]**2)\n",
    "print(let_X_train.shape, let_X_test.shape)"
   ]
  },
  {
   "cell_type": "markdown",
   "metadata": {},
   "source": [
    "## Classifiers"
   ]
  },
  {
   "cell_type": "markdown",
   "metadata": {},
   "source": [
    "### Digits"
   ]
  },
  {
   "cell_type": "code",
   "execution_count": 5,
   "metadata": {},
   "outputs": [],
   "source": [
    "#Multi-Class Classification\n",
    "dig_MLP_clf = MLPClassifier(random_state=1, max_iter=300).fit(dig_X_train, dig_y_train)"
   ]
  },
  {
   "cell_type": "code",
   "execution_count": null,
   "metadata": {
    "collapsed": true
   },
   "outputs": [
    {
     "name": "stdout",
     "output_type": "stream",
     "text": [
      "Fitting 2 folds for each of 9 candidates, totalling 18 fits\n",
      "[CV] clf__n_neighbors=1 ..............................................\n"
     ]
    },
    {
     "name": "stderr",
     "output_type": "stream",
     "text": [
      "[Parallel(n_jobs=1)]: Using backend SequentialBackend with 1 concurrent workers.\n"
     ]
    },
    {
     "name": "stdout",
     "output_type": "stream",
     "text": [
      "[CV] .................. clf__n_neighbors=1, score=0.933, total=  50.1s\n",
      "[CV] clf__n_neighbors=1 ..............................................\n"
     ]
    },
    {
     "name": "stderr",
     "output_type": "stream",
     "text": [
      "[Parallel(n_jobs=1)]: Done   1 out of   1 | elapsed:   50.0s remaining:    0.0s\n"
     ]
    },
    {
     "name": "stdout",
     "output_type": "stream",
     "text": [
      "[CV] .................. clf__n_neighbors=1, score=0.940, total=  47.6s\n",
      "[CV] clf__n_neighbors=2 ..............................................\n"
     ]
    },
    {
     "name": "stderr",
     "output_type": "stream",
     "text": [
      "[Parallel(n_jobs=1)]: Done   2 out of   2 | elapsed:  1.6min remaining:    0.0s\n"
     ]
    },
    {
     "name": "stdout",
     "output_type": "stream",
     "text": [
      "[CV] .................. clf__n_neighbors=2, score=0.918, total=  47.6s\n",
      "[CV] clf__n_neighbors=2 ..............................................\n",
      "[CV] .................. clf__n_neighbors=2, score=0.926, total=  46.7s\n",
      "[CV] clf__n_neighbors=3 ..............................................\n",
      "[CV] .................. clf__n_neighbors=3, score=0.932, total=  46.5s\n",
      "[CV] clf__n_neighbors=3 ..............................................\n",
      "[CV] .................. clf__n_neighbors=3, score=0.940, total=  44.1s\n",
      "[CV] clf__n_neighbors=4 ..............................................\n",
      "[CV] .................. clf__n_neighbors=4, score=0.926, total=  47.7s\n",
      "[CV] clf__n_neighbors=4 ..............................................\n",
      "[CV] .................. clf__n_neighbors=4, score=0.934, total=  45.8s\n",
      "[CV] clf__n_neighbors=5 ..............................................\n",
      "[CV] .................. clf__n_neighbors=5, score=0.928, total=  49.1s\n",
      "[CV] clf__n_neighbors=5 ..............................................\n",
      "[CV] .................. clf__n_neighbors=5, score=0.936, total=  49.6s\n",
      "[CV] clf__n_neighbors=6 ..............................................\n"
     ]
    }
   ],
   "source": [
    "# KNN plus HPO with GridSearch\n",
    "pipeline = Pipeline([('clf',KNeighborsClassifier())])\n",
    "# Define hyperparameter grid\n",
    "param_grid = {'clf__n_neighbors':range(1,10)}\n",
    "#GridSearchCV to perform HPO pipeline\n",
    "dig_KNN_clf = GridSearchCV(pipeline, param_grid,verbose=3, cv = 2).fit(dig_X_train[:10000], dig_y_train[:10000])"
   ]
  },
  {
   "cell_type": "code",
   "execution_count": null,
   "metadata": {},
   "outputs": [],
   "source": [
    "print(dig_KNN_clf.best_estimator_)"
   ]
  },
  {
   "cell_type": "markdown",
   "metadata": {},
   "source": [
    "Classification Report (MLP) - **Digits**"
   ]
  },
  {
   "cell_type": "code",
   "execution_count": 7,
   "metadata": {},
   "outputs": [
    {
     "name": "stdout",
     "output_type": "stream",
     "text": [
      "              precision    recall  f1-score   support\n",
      "\n",
      "           0       0.97      0.98      0.97      4000\n",
      "           1       1.00      0.98      0.99      4000\n",
      "           2       0.97      0.98      0.97      4000\n",
      "           3       0.95      0.97      0.96      4000\n",
      "           4       0.97      0.98      0.97      4000\n",
      "           5       0.98      0.96      0.97      4000\n",
      "           6       0.97      0.98      0.98      4000\n",
      "           7       0.98      0.98      0.98      4000\n",
      "           8       0.97      0.95      0.96      4000\n",
      "           9       0.97      0.96      0.97      4000\n",
      "\n",
      "    accuracy                           0.97     40000\n",
      "   macro avg       0.97      0.97      0.97     40000\n",
      "weighted avg       0.97      0.97      0.97     40000\n",
      "\n"
     ]
    }
   ],
   "source": [
    "with open('dig_MLP_clf.pickle', 'rb') as f:\n",
    "    dig_MLP_clf = pk.load(f)\n",
    "dig_y_pred = dig_MLP_clf.predict(dig_X_test)\n",
    "print(classification_report(dig_y_test, dig_y_pred))"
   ]
  },
  {
   "cell_type": "markdown",
   "metadata": {},
   "source": [
    "Classification Report (KNN) - **Digits**"
   ]
  },
  {
   "cell_type": "code",
   "execution_count": 8,
   "metadata": {},
   "outputs": [
    {
     "name": "stdout",
     "output_type": "stream",
     "text": [
      "              precision    recall  f1-score   support\n",
      "\n",
      "           0       0.97      0.94      0.95        64\n",
      "           1       0.90      1.00      0.95        45\n",
      "           2       1.00      0.91      0.95        43\n",
      "           3       0.93      0.95      0.94        59\n",
      "           4       0.98      0.95      0.96        42\n",
      "           5       0.90      0.95      0.92        64\n",
      "           6       0.93      0.96      0.94        53\n",
      "           7       0.86      0.98      0.91        43\n",
      "           8       0.92      0.83      0.87        41\n",
      "           9       1.00      0.85      0.92        46\n",
      "\n",
      "    accuracy                           0.93       500\n",
      "   macro avg       0.94      0.93      0.93       500\n",
      "weighted avg       0.94      0.93      0.93       500\n",
      "\n"
     ]
    }
   ],
   "source": [
    "with open('dig_KNN_clf.pickle', 'rb') as f:\n",
    "    dig_KNN_clf = pk.load(f)\n",
    "dig_y_pred = dig_KNN_clf.predict(dig_X_test[:500])\n",
    "print(classification_report(dig_y_test[:500], dig_y_pred))"
   ]
  },
  {
   "cell_type": "code",
   "execution_count": 3,
   "metadata": {},
   "outputs": [
    {
     "ename": "NameError",
     "evalue": "name 'dig_MLP_clf' is not defined",
     "output_type": "error",
     "traceback": [
      "\u001b[1;31m---------------------------------------------------------------------------\u001b[0m",
      "\u001b[1;31mNameError\u001b[0m                                 Traceback (most recent call last)",
      "\u001b[1;32m<ipython-input-3-426bd01fc048>\u001b[0m in \u001b[0;36m<module>\u001b[1;34m\u001b[0m\n\u001b[0;32m      1\u001b[0m \u001b[1;32mwith\u001b[0m \u001b[0mopen\u001b[0m\u001b[1;33m(\u001b[0m\u001b[1;34m'dig_MLP_clf.pickle'\u001b[0m\u001b[1;33m,\u001b[0m \u001b[1;34m'wb'\u001b[0m\u001b[1;33m)\u001b[0m \u001b[1;32mas\u001b[0m \u001b[0mf\u001b[0m\u001b[1;33m:\u001b[0m\u001b[1;33m\u001b[0m\u001b[1;33m\u001b[0m\u001b[0m\n\u001b[1;32m----> 2\u001b[1;33m     \u001b[0mpk\u001b[0m\u001b[1;33m.\u001b[0m\u001b[0mdump\u001b[0m\u001b[1;33m(\u001b[0m\u001b[0mdig_MLP_clf\u001b[0m\u001b[1;33m,\u001b[0m\u001b[0mf\u001b[0m\u001b[1;33m)\u001b[0m\u001b[1;33m\u001b[0m\u001b[1;33m\u001b[0m\u001b[0m\n\u001b[0m\u001b[0;32m      3\u001b[0m \u001b[1;32mwith\u001b[0m \u001b[0mopen\u001b[0m\u001b[1;33m(\u001b[0m\u001b[1;34m'dig_KNN_clf.pickle'\u001b[0m\u001b[1;33m,\u001b[0m \u001b[1;34m'wb'\u001b[0m\u001b[1;33m)\u001b[0m \u001b[1;32mas\u001b[0m \u001b[0mf\u001b[0m\u001b[1;33m:\u001b[0m\u001b[1;33m\u001b[0m\u001b[1;33m\u001b[0m\u001b[0m\n\u001b[0;32m      4\u001b[0m     \u001b[0mpk\u001b[0m\u001b[1;33m.\u001b[0m\u001b[0mdump\u001b[0m\u001b[1;33m(\u001b[0m\u001b[0mdig_KNN_clf\u001b[0m\u001b[1;33m,\u001b[0m\u001b[0mf\u001b[0m\u001b[1;33m)\u001b[0m\u001b[1;33m\u001b[0m\u001b[1;33m\u001b[0m\u001b[0m\n",
      "\u001b[1;31mNameError\u001b[0m: name 'dig_MLP_clf' is not defined"
     ]
    }
   ],
   "source": [
    "with open('dig_MLP_clf.pickle', 'wb') as f:\n",
    "    pk.dump(dig_MLP_clf,f)\n",
    "with open('dig_KNN_clf.pickle', 'wb') as f:\n",
    "    pk.dump(dig_KNN_clf,f)"
   ]
  },
  {
   "cell_type": "markdown",
   "metadata": {},
   "source": [
    "### Letters"
   ]
  },
  {
   "cell_type": "code",
   "execution_count": 5,
   "metadata": {},
   "outputs": [],
   "source": [
    "#Multi-Class Classification\n",
    "let_MLP_clf = MLPClassifier(random_state=1, max_iter=300).fit(let_X_train, let_y_train)\n",
    "with open('let_MLP_clf.pickle', 'wb') as f:\n",
    "    pk.dump(let_MLP_clf,f)"
   ]
  },
  {
   "cell_type": "code",
   "execution_count": 6,
   "metadata": {
    "scrolled": true
   },
   "outputs": [
    {
     "name": "stdout",
     "output_type": "stream",
     "text": [
      "Fitting 2 folds for each of 9 candidates, totalling 18 fits\n",
      "[CV] clf__n_neighbors=1 ..............................................\n"
     ]
    },
    {
     "name": "stderr",
     "output_type": "stream",
     "text": [
      "[Parallel(n_jobs=1)]: Using backend SequentialBackend with 1 concurrent workers.\n"
     ]
    },
    {
     "name": "stdout",
     "output_type": "stream",
     "text": [
      "[CV] .................. clf__n_neighbors=1, score=0.717, total=  50.7s\n",
      "[CV] clf__n_neighbors=1 ..............................................\n"
     ]
    },
    {
     "name": "stderr",
     "output_type": "stream",
     "text": [
      "[Parallel(n_jobs=1)]: Done   1 out of   1 | elapsed:   50.6s remaining:    0.0s\n"
     ]
    },
    {
     "name": "stdout",
     "output_type": "stream",
     "text": [
      "[CV] .................. clf__n_neighbors=1, score=0.725, total=  55.9s\n",
      "[CV] clf__n_neighbors=2 ..............................................\n"
     ]
    },
    {
     "name": "stderr",
     "output_type": "stream",
     "text": [
      "[Parallel(n_jobs=1)]: Done   2 out of   2 | elapsed:  1.8min remaining:    0.0s\n"
     ]
    },
    {
     "name": "stdout",
     "output_type": "stream",
     "text": [
      "[CV] .................. clf__n_neighbors=2, score=0.691, total=  50.6s\n",
      "[CV] clf__n_neighbors=2 ..............................................\n",
      "[CV] .................. clf__n_neighbors=2, score=0.694, total=  49.8s\n",
      "[CV] clf__n_neighbors=3 ..............................................\n",
      "[CV] .................. clf__n_neighbors=3, score=0.717, total=  55.1s\n",
      "[CV] clf__n_neighbors=3 ..............................................\n",
      "[CV] .................. clf__n_neighbors=3, score=0.722, total=  50.2s\n",
      "[CV] clf__n_neighbors=4 ..............................................\n",
      "[CV] .................. clf__n_neighbors=4, score=0.715, total=  55.6s\n",
      "[CV] clf__n_neighbors=4 ..............................................\n",
      "[CV] .................. clf__n_neighbors=4, score=0.719, total=  55.2s\n",
      "[CV] clf__n_neighbors=5 ..............................................\n",
      "[CV] .................. clf__n_neighbors=5, score=0.716, total=  58.1s\n",
      "[CV] clf__n_neighbors=5 ..............................................\n",
      "[CV] .................. clf__n_neighbors=5, score=0.725, total=  52.8s\n",
      "[CV] clf__n_neighbors=6 ..............................................\n",
      "[CV] .................. clf__n_neighbors=6, score=0.710, total=  50.6s\n",
      "[CV] clf__n_neighbors=6 ..............................................\n",
      "[CV] .................. clf__n_neighbors=6, score=0.722, total= 1.2min\n",
      "[CV] clf__n_neighbors=7 ..............................................\n",
      "[CV] .................. clf__n_neighbors=7, score=0.709, total= 1.0min\n",
      "[CV] clf__n_neighbors=7 ..............................................\n",
      "[CV] .................. clf__n_neighbors=7, score=0.716, total=  55.0s\n",
      "[CV] clf__n_neighbors=8 ..............................................\n",
      "[CV] .................. clf__n_neighbors=8, score=0.700, total=  55.2s\n",
      "[CV] clf__n_neighbors=8 ..............................................\n",
      "[CV] .................. clf__n_neighbors=8, score=0.713, total=  55.1s\n",
      "[CV] clf__n_neighbors=9 ..............................................\n",
      "[CV] .................. clf__n_neighbors=9, score=0.696, total=  57.2s\n",
      "[CV] clf__n_neighbors=9 ..............................................\n",
      "[CV] .................. clf__n_neighbors=9, score=0.713, total=  56.7s\n"
     ]
    },
    {
     "name": "stderr",
     "output_type": "stream",
     "text": [
      "[Parallel(n_jobs=1)]: Done  18 out of  18 | elapsed: 16.6min finished\n"
     ]
    }
   ],
   "source": [
    "# KNN plus HPO with GridSearch\n",
    "pipeline = Pipeline([('clf',KNeighborsClassifier())])\n",
    "# Define hyperparameter grid\n",
    "param_grid = {'clf__n_neighbors':range(1,10)}\n",
    "#GridSearchCV to perform HPO pipeline\n",
    "let_KNN_clf = GridSearchCV(pipeline, param_grid,verbose=3, cv = 2).fit(let_X_train[:10000], let_y_train[:10000])\n",
    "with open('let_KNN_clf.pickle', 'wb') as f:\n",
    "    pk.dump(let_KNN_clf,f)"
   ]
  },
  {
   "cell_type": "markdown",
   "metadata": {},
   "source": [
    "Classification Report (MLP) - **letters**"
   ]
  },
  {
   "cell_type": "code",
   "execution_count": 8,
   "metadata": {},
   "outputs": [
    {
     "name": "stdout",
     "output_type": "stream",
     "text": [
      "              precision    recall  f1-score   support\n",
      "\n",
      "           1       0.58      0.70      0.64       800\n",
      "           2       0.85      0.78      0.82       800\n",
      "           3       0.87      0.86      0.86       800\n",
      "           4       0.73      0.81      0.77       800\n",
      "           5       0.83      0.81      0.82       800\n",
      "           6       0.81      0.85      0.83       800\n",
      "           7       0.63      0.63      0.63       800\n",
      "           8       0.79      0.71      0.75       800\n",
      "           9       0.63      0.71      0.67       800\n",
      "          10       0.95      0.78      0.85       800\n",
      "          11       0.66      0.86      0.75       800\n",
      "          12       0.65      0.67      0.66       800\n",
      "          13       0.91      0.87      0.89       800\n",
      "          14       0.80      0.70      0.75       800\n",
      "          15       0.83      0.90      0.86       800\n",
      "          16       0.87      0.88      0.88       800\n",
      "          17       0.61      0.60      0.61       800\n",
      "          18       0.83      0.74      0.78       800\n",
      "          19       0.94      0.89      0.91       800\n",
      "          20       0.82      0.78      0.80       800\n",
      "          21       0.85      0.77      0.80       800\n",
      "          22       0.78      0.87      0.83       800\n",
      "          23       0.83      0.89      0.86       800\n",
      "          24       0.83      0.80      0.82       800\n",
      "          25       0.85      0.78      0.81       800\n",
      "          26       0.92      0.88      0.90       800\n",
      "\n",
      "    accuracy                           0.79     20800\n",
      "   macro avg       0.80      0.79      0.79     20800\n",
      "weighted avg       0.80      0.79      0.79     20800\n",
      "\n"
     ]
    }
   ],
   "source": [
    "let_y_pred = let_MLP_clf.predict(let_X_test)\n",
    "print(classification_report(let_y_test, let_y_pred))"
   ]
  },
  {
   "cell_type": "markdown",
   "metadata": {},
   "source": [
    "Classification Report (KNN) - **letters**"
   ]
  },
  {
   "cell_type": "code",
   "execution_count": 14,
   "metadata": {
    "scrolled": true
   },
   "outputs": [
    {
     "name": "stdout",
     "output_type": "stream",
     "text": [
      "              precision    recall  f1-score   support\n",
      "\n",
      "           1       0.75      0.72      0.74       800\n",
      "           2       0.85      0.64      0.73       800\n",
      "           3       0.74      0.87      0.80       800\n",
      "           4       0.88      0.72      0.79       800\n",
      "           5       0.79      0.79      0.79       800\n",
      "           6       0.82      0.70      0.75       800\n",
      "           7       0.69      0.51      0.59       800\n",
      "           8       0.73      0.78      0.75       800\n",
      "           9       0.53      0.63      0.58       800\n",
      "          10       0.76      0.82      0.79       800\n",
      "          11       0.86      0.70      0.77       800\n",
      "          12       0.44      0.63      0.52       800\n",
      "          13       0.94      0.91      0.93       800\n",
      "          14       0.77      0.79      0.78       800\n",
      "          15       0.74      0.95      0.83       800\n",
      "          16       0.79      0.85      0.82       800\n",
      "          17       0.71      0.50      0.59       800\n",
      "          18       0.72      0.75      0.74       800\n",
      "          19       0.88      0.95      0.91       800\n",
      "          20       0.77      0.75      0.76       800\n",
      "          21       0.79      0.82      0.81       800\n",
      "          22       0.72      0.86      0.79       800\n",
      "          23       0.94      0.86      0.90       800\n",
      "          24       0.91      0.77      0.83       800\n",
      "          25       0.75      0.72      0.74       800\n",
      "          26       0.91      0.91      0.91       800\n",
      "\n",
      "    accuracy                           0.77     20800\n",
      "   macro avg       0.78      0.77      0.77     20800\n",
      "weighted avg       0.78      0.77      0.77     20800\n",
      "\n"
     ]
    }
   ],
   "source": [
    "let_y_pred = let_KNN_clf.predict(let_X_test)\n",
    "print(classification_report(let_y_test, let_y_pred))"
   ]
  },
  {
   "cell_type": "code",
   "execution_count": 189,
   "metadata": {},
   "outputs": [
    {
     "data": {
      "text/plain": [
       "<matplotlib.image.AxesImage at 0x2386140bc10>"
      ]
     },
     "execution_count": 189,
     "metadata": {},
     "output_type": "execute_result"
    },
    {
     "data": {
      "image/png": "[encoded data removed]",
      "text/plain": [
       "<Figure size 432x288 with 1 Axes>"
      ]
     },
     "metadata": {
      "needs_background": "light"
     },
     "output_type": "display_data"
    }
   ],
   "source": [
    "import random as rd\n",
    "plt.imshow(dig_im_train[dig_y_train == 2][rd.randint(0,100)])"
   ]
  }
 ],
 "metadata": {
  "kernelspec": {
   "display_name": "Python 3",
   "language": "python",
   "name": "python3"
  },
  "language_info": {
   "codemirror_mode": {
    "name": "ipython",
    "version": 3
   },
   "file_extension": ".py",
   "mimetype": "text/x-python",
   "name": "python",
   "nbconvert_exporter": "python",
   "pygments_lexer": "ipython3",
   "version": "3.8.2"
  }
 },
 "nbformat": 4,
 "nbformat_minor": 4
}
