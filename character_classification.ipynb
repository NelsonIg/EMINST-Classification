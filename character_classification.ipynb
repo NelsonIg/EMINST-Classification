{
 "cells": [
  {
   "cell_type": "markdown",
   "metadata": {},
   "source": [
    "# Master Colloqium - Character Recognition"
   ]
  },
  {
   "cell_type": "code",
   "execution_count": 1,
   "metadata": {},
   "outputs": [],
   "source": [
    "#!pip install emnist\n",
    "#!python -c \"import emnist; emnist.ensure_cached_data()\""
   ]
  },
  {
   "cell_type": "code",
   "execution_count": 1,
   "metadata": {},
   "outputs": [],
   "source": [
    "from emnist import extract_training_samples, extract_test_samples, list_datasets\n",
    "from sklearn.neural_network import MLPClassifier\n",
    "from sklearn.metrics import classification_report\n",
    "from sklearn.neighbors import KNeighborsClassifier\n",
    "from sklearn.pipeline import Pipeline\n",
    "from sklearn.model_selection import train_test_split, GridSearchCV\n",
    "import numpy as np\n",
    "import matplotlib.pyplot as plt\n",
    "import pickle as pk"
   ]
  },
  {
   "cell_type": "markdown",
   "metadata": {},
   "source": [
    "## Data Sets"
   ]
  },
  {
   "cell_type": "code",
   "execution_count": 2,
   "metadata": {},
   "outputs": [],
   "source": [
    "# Defining data sets\n",
    "#digits only\n",
    "dig_im_train, dig_y_train = extract_training_samples('digits')\n",
    "dig_im_test, dig_y_test = extract_test_samples('digits')\n",
    "#letters only\n",
    "let_im_train, let_y_train = extract_training_samples('letters')\n",
    "let_im_test, let_y_test = extract_test_samples('letters')\n",
    "#balanced: 0-9, A-Z, a,b,d,e,f,g,h,n,q,r,t\n",
    "bal_im_train, bal_y_train = extract_training_samples('balanced')\n",
    "bal_im_test, bal_y_test = extract_test_samples('balanced')"
   ]
  },
  {
   "cell_type": "code",
   "execution_count": 21,
   "metadata": {},
   "outputs": [
    {
     "data": {
      "image/png": "[encoded data removed]",
      "text/plain": [
       "<Figure size 576x576 with 5 Axes>"
      ]
     },
     "metadata": {
      "needs_background": "light"
     },
     "output_type": "display_data"
    }
   ],
   "source": [
    "\n",
    "columns = 5\n",
    "rows = 1\n",
    "fig=plt.figure(figsize=(8, 8))\n",
    "for i in range(36, columns*rows +36):\n",
    "    img = bal_im_train[bal_y_train==i][np.random.randint(0,100)]\n",
    "    fig.add_subplot(rows, columns, i-35)\n",
    "    plt.imshow(img)\n",
    "plt.show()\n",
    " "
   ]
  },
  {
   "cell_type": "markdown",
   "metadata": {},
   "source": [
    "Reshape images to vectors"
   ]
  },
  {
   "cell_type": "code",
   "execution_count": 3,
   "metadata": {},
   "outputs": [
    {
     "name": "stdout",
     "output_type": "stream",
     "text": [
      "(240000, 784) (40000, 784)\n",
      "(124800, 784) (20800, 784)\n",
      "(112800, 784) (18800, 784)\n"
     ]
    }
   ],
   "source": [
    "#digit vectors\n",
    "dig_X_train = dig_im_train[:].reshape(dig_im_train.shape[0],dig_im_train.shape[1]**2)\n",
    "dig_X_test = dig_im_test[:].reshape(dig_im_test.shape[0],dig_im_test.shape[1]**2)\n",
    "print(dig_X_train.shape, dig_X_test.shape)\n",
    "#letter vectors\n",
    "let_X_train = let_im_train[:].reshape(let_im_train.shape[0],let_im_train.shape[1]**2)\n",
    "let_X_test = let_im_test[:].reshape(let_im_test.shape[0],let_im_test.shape[1]**2)\n",
    "print(let_X_train.shape, let_X_test.shape)\n",
    "#balanced vectors\n",
    "bal_X_train = bal_im_train[:].reshape(bal_im_train.shape[0],bal_im_train.shape[1]**2)\n",
    "bal_X_test = bal_im_test[:].reshape(bal_im_test.shape[0],bal_im_test.shape[1]**2)\n",
    "print(bal_X_train.shape, bal_X_test.shape)"
   ]
  },
  {
   "cell_type": "markdown",
   "metadata": {},
   "source": [
    "## Classifiers"
   ]
  },
  {
   "cell_type": "markdown",
   "metadata": {},
   "source": [
    "### Digits"
   ]
  },
  {
   "cell_type": "code",
   "execution_count": 4,
   "metadata": {},
   "outputs": [
    {
     "name": "stdout",
     "output_type": "stream",
     "text": [
      "Fitting 2 folds for each of 5 candidates, totalling 10 fits\n",
      "[CV] clf__hidden_layer_sizes=(20,) ...................................\n"
     ]
    },
    {
     "name": "stderr",
     "output_type": "stream",
     "text": [
      "[Parallel(n_jobs=1)]: Using backend SequentialBackend with 1 concurrent workers.\n"
     ]
    },
    {
     "name": "stdout",
     "output_type": "stream",
     "text": [
      "[CV] ....... clf__hidden_layer_sizes=(20,), score=0.928, total= 8.2min\n",
      "[CV] clf__hidden_layer_sizes=(20,) ...................................\n"
     ]
    },
    {
     "name": "stderr",
     "output_type": "stream",
     "text": [
      "[Parallel(n_jobs=1)]: Done   1 out of   1 | elapsed:  8.2min remaining:    0.0s\n"
     ]
    },
    {
     "name": "stdout",
     "output_type": "stream",
     "text": [
      "[CV] ....... clf__hidden_layer_sizes=(20,), score=0.947, total=13.5min\n",
      "[CV] clf__hidden_layer_sizes=(40,) ...................................\n"
     ]
    },
    {
     "name": "stderr",
     "output_type": "stream",
     "text": [
      "[Parallel(n_jobs=1)]: Done   2 out of   2 | elapsed: 21.6min remaining:    0.0s\n"
     ]
    },
    {
     "name": "stdout",
     "output_type": "stream",
     "text": [
      "[CV] ....... clf__hidden_layer_sizes=(40,), score=0.954, total=25.8min\n",
      "[CV] clf__hidden_layer_sizes=(40,) ...................................\n",
      "[CV] ....... clf__hidden_layer_sizes=(40,), score=0.957, total=10.6min\n",
      "[CV] clf__hidden_layer_sizes=(60,) ...................................\n",
      "[CV] ....... clf__hidden_layer_sizes=(60,), score=0.965, total= 7.3min\n",
      "[CV] clf__hidden_layer_sizes=(60,) ...................................\n",
      "[CV] ....... clf__hidden_layer_sizes=(60,), score=0.968, total=17.4min\n",
      "[CV] clf__hidden_layer_sizes=(80,) ...................................\n",
      "[CV] ....... clf__hidden_layer_sizes=(80,), score=0.970, total= 6.1min\n",
      "[CV] clf__hidden_layer_sizes=(80,) ...................................\n",
      "[CV] ....... clf__hidden_layer_sizes=(80,), score=0.965, total=11.2min\n",
      "[CV] clf__hidden_layer_sizes=(100,) ..................................\n",
      "[CV] ...... clf__hidden_layer_sizes=(100,), score=0.968, total=18.4min\n",
      "[CV] clf__hidden_layer_sizes=(100,) ..................................\n",
      "[CV] ...... clf__hidden_layer_sizes=(100,), score=0.975, total= 9.7min\n"
     ]
    },
    {
     "name": "stderr",
     "output_type": "stream",
     "text": [
      "[Parallel(n_jobs=1)]: Done  10 out of  10 | elapsed: 128.2min finished\n"
     ]
    }
   ],
   "source": [
    "#Multi-Class Classification\n",
    "pipeline = Pipeline([('clf',MLPClassifier())])\n",
    "# Define hyperparameter grid\n",
    "param_grid = {'clf__hidden_layer_sizes':[(i,) for i in range(20,120,20)]}\n",
    "dig_MLP_clf = GridSearchCV(\n",
    "    pipeline, param_grid,verbose=3, cv = 2).fit(dig_X_train,dig_y_train)"
   ]
  },
  {
   "cell_type": "code",
   "execution_count": null,
   "metadata": {
    "collapsed": true
   },
   "outputs": [
    {
     "name": "stdout",
     "output_type": "stream",
     "text": [
      "Fitting 2 folds for each of 9 candidates, totalling 18 fits\n",
      "[CV] clf__n_neighbors=1 ..............................................\n"
     ]
    },
    {
     "name": "stderr",
     "output_type": "stream",
     "text": [
      "[Parallel(n_jobs=1)]: Using backend SequentialBackend with 1 concurrent workers.\n"
     ]
    },
    {
     "name": "stdout",
     "output_type": "stream",
     "text": [
      "[CV] .................. clf__n_neighbors=1, score=0.933, total=  50.1s\n",
      "[CV] clf__n_neighbors=1 ..............................................\n"
     ]
    },
    {
     "name": "stderr",
     "output_type": "stream",
     "text": [
      "[Parallel(n_jobs=1)]: Done   1 out of   1 | elapsed:   50.0s remaining:    0.0s\n"
     ]
    },
    {
     "name": "stdout",
     "output_type": "stream",
     "text": [
      "[CV] .................. clf__n_neighbors=1, score=0.940, total=  47.6s\n",
      "[CV] clf__n_neighbors=2 ..............................................\n"
     ]
    },
    {
     "name": "stderr",
     "output_type": "stream",
     "text": [
      "[Parallel(n_jobs=1)]: Done   2 out of   2 | elapsed:  1.6min remaining:    0.0s\n"
     ]
    },
    {
     "name": "stdout",
     "output_type": "stream",
     "text": [
      "[CV] .................. clf__n_neighbors=2, score=0.918, total=  47.6s\n",
      "[CV] clf__n_neighbors=2 ..............................................\n",
      "[CV] .................. clf__n_neighbors=2, score=0.926, total=  46.7s\n",
      "[CV] clf__n_neighbors=3 ..............................................\n",
      "[CV] .................. clf__n_neighbors=3, score=0.932, total=  46.5s\n",
      "[CV] clf__n_neighbors=3 ..............................................\n",
      "[CV] .................. clf__n_neighbors=3, score=0.940, total=  44.1s\n",
      "[CV] clf__n_neighbors=4 ..............................................\n",
      "[CV] .................. clf__n_neighbors=4, score=0.926, total=  47.7s\n",
      "[CV] clf__n_neighbors=4 ..............................................\n",
      "[CV] .................. clf__n_neighbors=4, score=0.934, total=  45.8s\n",
      "[CV] clf__n_neighbors=5 ..............................................\n",
      "[CV] .................. clf__n_neighbors=5, score=0.928, total=  49.1s\n",
      "[CV] clf__n_neighbors=5 ..............................................\n",
      "[CV] .................. clf__n_neighbors=5, score=0.936, total=  49.6s\n",
      "[CV] clf__n_neighbors=6 ..............................................\n"
     ]
    }
   ],
   "source": [
    "# KNN plus HPO with GridSearch\n",
    "pipeline = Pipeline([('clf',KNeighborsClassifier())])\n",
    "# Define hyperparameter grid\n",
    "param_grid = {'clf__hidden_layer_sizes':range(1,10)}\n",
    "#GridSearchCV to perform HPO\n",
    "dig_KNN_clf = GridSearchCV(\n",
    "    pipeline, param_grid,verbose=3, cv = 2).fit(dig_X_train[:10000], dig_y_train[:10000])"
   ]
  },
  {
   "cell_type": "code",
   "execution_count": null,
   "metadata": {},
   "outputs": [],
   "source": [
    "print(dig_KNN_clf.best_estimator_)"
   ]
  },
  {
   "cell_type": "markdown",
   "metadata": {},
   "source": [
    "Classification Report (MLP) - **Digits**"
   ]
  },
  {
   "cell_type": "code",
   "execution_count": 5,
   "metadata": {},
   "outputs": [
    {
     "name": "stdout",
     "output_type": "stream",
     "text": [
      "              precision    recall  f1-score   support\n",
      "\n",
      "           0       0.97      0.98      0.97      4000\n",
      "           1       1.00      0.98      0.99      4000\n",
      "           2       0.97      0.98      0.97      4000\n",
      "           3       0.95      0.97      0.96      4000\n",
      "           4       0.97      0.98      0.97      4000\n",
      "           5       0.98      0.96      0.97      4000\n",
      "           6       0.97      0.98      0.98      4000\n",
      "           7       0.98      0.98      0.98      4000\n",
      "           8       0.97      0.95      0.96      4000\n",
      "           9       0.97      0.96      0.97      4000\n",
      "\n",
      "    accuracy                           0.97     40000\n",
      "   macro avg       0.97      0.97      0.97     40000\n",
      "weighted avg       0.97      0.97      0.97     40000\n",
      "\n"
     ]
    }
   ],
   "source": [
    "with open('dig_MLP_clf.pickle', 'rb') as f:\n",
    "    dig_MLP_clf = pk.load(f)\n",
    "dig_y_pred = dig_MLP_clf.predict(dig_X_test)\n",
    "print(classification_report(dig_y_test, dig_y_pred))"
   ]
  },
  {
   "cell_type": "markdown",
   "metadata": {},
   "source": [
    "Classification Report (KNN) - **Digits**"
   ]
  },
  {
   "cell_type": "code",
   "execution_count": 8,
   "metadata": {},
   "outputs": [
    {
     "name": "stdout",
     "output_type": "stream",
     "text": [
      "              precision    recall  f1-score   support\n",
      "\n",
      "           0       0.97      0.94      0.95        64\n",
      "           1       0.90      1.00      0.95        45\n",
      "           2       1.00      0.91      0.95        43\n",
      "           3       0.93      0.95      0.94        59\n",
      "           4       0.98      0.95      0.96        42\n",
      "           5       0.90      0.95      0.92        64\n",
      "           6       0.93      0.96      0.94        53\n",
      "           7       0.86      0.98      0.91        43\n",
      "           8       0.92      0.83      0.87        41\n",
      "           9       1.00      0.85      0.92        46\n",
      "\n",
      "    accuracy                           0.93       500\n",
      "   macro avg       0.94      0.93      0.93       500\n",
      "weighted avg       0.94      0.93      0.93       500\n",
      "\n"
     ]
    }
   ],
   "source": [
    "with open('dig_KNN_clf.pickle', 'rb') as f:\n",
    "    dig_KNN_clf = pk.load(f)\n",
    "dig_y_pred = dig_KNN_clf.predict(dig_X_test[:500])\n",
    "print(classification_report(dig_y_test[:500], dig_y_pred))"
   ]
  },
  {
   "cell_type": "code",
   "execution_count": 3,
   "metadata": {},
   "outputs": [
    {
     "ename": "NameError",
     "evalue": "name 'dig_MLP_clf' is not defined",
     "output_type": "error",
     "traceback": [
      "\u001b[1;31m---------------------------------------------------------------------------\u001b[0m",
      "\u001b[1;31mNameError\u001b[0m                                 Traceback (most recent call last)",
      "\u001b[1;32m<ipython-input-3-426bd01fc048>\u001b[0m in \u001b[0;36m<module>\u001b[1;34m\u001b[0m\n\u001b[0;32m      1\u001b[0m \u001b[1;32mwith\u001b[0m \u001b[0mopen\u001b[0m\u001b[1;33m(\u001b[0m\u001b[1;34m'dig_MLP_clf.pickle'\u001b[0m\u001b[1;33m,\u001b[0m \u001b[1;34m'wb'\u001b[0m\u001b[1;33m)\u001b[0m \u001b[1;32mas\u001b[0m \u001b[0mf\u001b[0m\u001b[1;33m:\u001b[0m\u001b[1;33m\u001b[0m\u001b[1;33m\u001b[0m\u001b[0m\n\u001b[1;32m----> 2\u001b[1;33m     \u001b[0mpk\u001b[0m\u001b[1;33m.\u001b[0m\u001b[0mdump\u001b[0m\u001b[1;33m(\u001b[0m\u001b[0mdig_MLP_clf\u001b[0m\u001b[1;33m,\u001b[0m\u001b[0mf\u001b[0m\u001b[1;33m)\u001b[0m\u001b[1;33m\u001b[0m\u001b[1;33m\u001b[0m\u001b[0m\n\u001b[0m\u001b[0;32m      3\u001b[0m \u001b[1;32mwith\u001b[0m \u001b[0mopen\u001b[0m\u001b[1;33m(\u001b[0m\u001b[1;34m'dig_KNN_clf.pickle'\u001b[0m\u001b[1;33m,\u001b[0m \u001b[1;34m'wb'\u001b[0m\u001b[1;33m)\u001b[0m \u001b[1;32mas\u001b[0m \u001b[0mf\u001b[0m\u001b[1;33m:\u001b[0m\u001b[1;33m\u001b[0m\u001b[1;33m\u001b[0m\u001b[0m\n\u001b[0;32m      4\u001b[0m     \u001b[0mpk\u001b[0m\u001b[1;33m.\u001b[0m\u001b[0mdump\u001b[0m\u001b[1;33m(\u001b[0m\u001b[0mdig_KNN_clf\u001b[0m\u001b[1;33m,\u001b[0m\u001b[0mf\u001b[0m\u001b[1;33m)\u001b[0m\u001b[1;33m\u001b[0m\u001b[1;33m\u001b[0m\u001b[0m\n",
      "\u001b[1;31mNameError\u001b[0m: name 'dig_MLP_clf' is not defined"
     ]
    }
   ],
   "source": [
    "with open('dig_MLP_clf.pickle', 'wb') as f:\n",
    "    pk.dump(dig_MLP_clf,f)\n",
    "with open('dig_KNN_clf.pickle', 'wb') as f:\n",
    "    pk.dump(dig_KNN_clf,f)"
   ]
  },
  {
   "cell_type": "markdown",
   "metadata": {},
   "source": [
    "### Letters"
   ]
  },
  {
   "cell_type": "code",
   "execution_count": 5,
   "metadata": {},
   "outputs": [],
   "source": [
    "#Multi-Class Classification\n",
    "let_MLP_clf = MLPClassifier(random_state=1, max_iter=300).fit(let_X_train, let_y_train)\n",
    "with open('let_MLP_clf.pickle', 'wb') as f:\n",
    "    pk.dump(let_MLP_clf,f)"
   ]
  },
  {
   "cell_type": "code",
   "execution_count": 6,
   "metadata": {
    "scrolled": true
   },
   "outputs": [
    {
     "name": "stdout",
     "output_type": "stream",
     "text": [
      "Fitting 2 folds for each of 9 candidates, totalling 18 fits\n",
      "[CV] clf__n_neighbors=1 ..............................................\n"
     ]
    },
    {
     "name": "stderr",
     "output_type": "stream",
     "text": [
      "[Parallel(n_jobs=1)]: Using backend SequentialBackend with 1 concurrent workers.\n"
     ]
    },
    {
     "name": "stdout",
     "output_type": "stream",
     "text": [
      "[CV] .................. clf__n_neighbors=1, score=0.717, total=  50.7s\n",
      "[CV] clf__n_neighbors=1 ..............................................\n"
     ]
    },
    {
     "name": "stderr",
     "output_type": "stream",
     "text": [
      "[Parallel(n_jobs=1)]: Done   1 out of   1 | elapsed:   50.6s remaining:    0.0s\n"
     ]
    },
    {
     "name": "stdout",
     "output_type": "stream",
     "text": [
      "[CV] .................. clf__n_neighbors=1, score=0.725, total=  55.9s\n",
      "[CV] clf__n_neighbors=2 ..............................................\n"
     ]
    },
    {
     "name": "stderr",
     "output_type": "stream",
     "text": [
      "[Parallel(n_jobs=1)]: Done   2 out of   2 | elapsed:  1.8min remaining:    0.0s\n"
     ]
    },
    {
     "name": "stdout",
     "output_type": "stream",
     "text": [
      "[CV] .................. clf__n_neighbors=2, score=0.691, total=  50.6s\n",
      "[CV] clf__n_neighbors=2 ..............................................\n",
      "[CV] .................. clf__n_neighbors=2, score=0.694, total=  49.8s\n",
      "[CV] clf__n_neighbors=3 ..............................................\n",
      "[CV] .................. clf__n_neighbors=3, score=0.717, total=  55.1s\n",
      "[CV] clf__n_neighbors=3 ..............................................\n",
      "[CV] .................. clf__n_neighbors=3, score=0.722, total=  50.2s\n",
      "[CV] clf__n_neighbors=4 ..............................................\n",
      "[CV] .................. clf__n_neighbors=4, score=0.715, total=  55.6s\n",
      "[CV] clf__n_neighbors=4 ..............................................\n",
      "[CV] .................. clf__n_neighbors=4, score=0.719, total=  55.2s\n",
      "[CV] clf__n_neighbors=5 ..............................................\n",
      "[CV] .................. clf__n_neighbors=5, score=0.716, total=  58.1s\n",
      "[CV] clf__n_neighbors=5 ..............................................\n",
      "[CV] .................. clf__n_neighbors=5, score=0.725, total=  52.8s\n",
      "[CV] clf__n_neighbors=6 ..............................................\n",
      "[CV] .................. clf__n_neighbors=6, score=0.710, total=  50.6s\n",
      "[CV] clf__n_neighbors=6 ..............................................\n",
      "[CV] .................. clf__n_neighbors=6, score=0.722, total= 1.2min\n",
      "[CV] clf__n_neighbors=7 ..............................................\n",
      "[CV] .................. clf__n_neighbors=7, score=0.709, total= 1.0min\n",
      "[CV] clf__n_neighbors=7 ..............................................\n",
      "[CV] .................. clf__n_neighbors=7, score=0.716, total=  55.0s\n",
      "[CV] clf__n_neighbors=8 ..............................................\n",
      "[CV] .................. clf__n_neighbors=8, score=0.700, total=  55.2s\n",
      "[CV] clf__n_neighbors=8 ..............................................\n",
      "[CV] .................. clf__n_neighbors=8, score=0.713, total=  55.1s\n",
      "[CV] clf__n_neighbors=9 ..............................................\n",
      "[CV] .................. clf__n_neighbors=9, score=0.696, total=  57.2s\n",
      "[CV] clf__n_neighbors=9 ..............................................\n",
      "[CV] .................. clf__n_neighbors=9, score=0.713, total=  56.7s\n"
     ]
    },
    {
     "name": "stderr",
     "output_type": "stream",
     "text": [
      "[Parallel(n_jobs=1)]: Done  18 out of  18 | elapsed: 16.6min finished\n"
     ]
    }
   ],
   "source": [
    "# KNN plus HPO with GridSearch\n",
    "pipeline = Pipeline([('clf',KNeighborsClassifier())])\n",
    "# Define hyperparameter grid\n",
    "param_grid = {'clf__n_neighbors':range(1,10)}\n",
    "#GridSearchCV to perform HPO pipeline\n",
    "let_KNN_clf = GridSearchCV(pipeline, param_grid,verbose=3, cv = 2).fit(let_X_train[:10000], let_y_train[:10000])\n",
    "with open('let_KNN_clf.pickle', 'wb') as f:\n",
    "    pk.dump(let_KNN_clf,f)"
   ]
  },
  {
   "cell_type": "markdown",
   "metadata": {},
   "source": [
    "Classification Report (MLP) - **letters**"
   ]
  },
  {
   "cell_type": "code",
   "execution_count": 8,
   "metadata": {},
   "outputs": [
    {
     "name": "stdout",
     "output_type": "stream",
     "text": [
      "              precision    recall  f1-score   support\n",
      "\n",
      "           1       0.58      0.70      0.64       800\n",
      "           2       0.85      0.78      0.82       800\n",
      "           3       0.87      0.86      0.86       800\n",
      "           4       0.73      0.81      0.77       800\n",
      "           5       0.83      0.81      0.82       800\n",
      "           6       0.81      0.85      0.83       800\n",
      "           7       0.63      0.63      0.63       800\n",
      "           8       0.79      0.71      0.75       800\n",
      "           9       0.63      0.71      0.67       800\n",
      "          10       0.95      0.78      0.85       800\n",
      "          11       0.66      0.86      0.75       800\n",
      "          12       0.65      0.67      0.66       800\n",
      "          13       0.91      0.87      0.89       800\n",
      "          14       0.80      0.70      0.75       800\n",
      "          15       0.83      0.90      0.86       800\n",
      "          16       0.87      0.88      0.88       800\n",
      "          17       0.61      0.60      0.61       800\n",
      "          18       0.83      0.74      0.78       800\n",
      "          19       0.94      0.89      0.91       800\n",
      "          20       0.82      0.78      0.80       800\n",
      "          21       0.85      0.77      0.80       800\n",
      "          22       0.78      0.87      0.83       800\n",
      "          23       0.83      0.89      0.86       800\n",
      "          24       0.83      0.80      0.82       800\n",
      "          25       0.85      0.78      0.81       800\n",
      "          26       0.92      0.88      0.90       800\n",
      "\n",
      "    accuracy                           0.79     20800\n",
      "   macro avg       0.80      0.79      0.79     20800\n",
      "weighted avg       0.80      0.79      0.79     20800\n",
      "\n"
     ]
    }
   ],
   "source": [
    "let_y_pred = let_MLP_clf.predict(let_X_test)\n",
    "print(classification_report(let_y_test, let_y_pred))"
   ]
  },
  {
   "cell_type": "markdown",
   "metadata": {},
   "source": [
    "Classification Report (KNN) - **letters**"
   ]
  },
  {
   "cell_type": "code",
   "execution_count": 14,
   "metadata": {
    "scrolled": true
   },
   "outputs": [
    {
     "name": "stdout",
     "output_type": "stream",
     "text": [
      "              precision    recall  f1-score   support\n",
      "\n",
      "           1       0.75      0.72      0.74       800\n",
      "           2       0.85      0.64      0.73       800\n",
      "           3       0.74      0.87      0.80       800\n",
      "           4       0.88      0.72      0.79       800\n",
      "           5       0.79      0.79      0.79       800\n",
      "           6       0.82      0.70      0.75       800\n",
      "           7       0.69      0.51      0.59       800\n",
      "           8       0.73      0.78      0.75       800\n",
      "           9       0.53      0.63      0.58       800\n",
      "          10       0.76      0.82      0.79       800\n",
      "          11       0.86      0.70      0.77       800\n",
      "          12       0.44      0.63      0.52       800\n",
      "          13       0.94      0.91      0.93       800\n",
      "          14       0.77      0.79      0.78       800\n",
      "          15       0.74      0.95      0.83       800\n",
      "          16       0.79      0.85      0.82       800\n",
      "          17       0.71      0.50      0.59       800\n",
      "          18       0.72      0.75      0.74       800\n",
      "          19       0.88      0.95      0.91       800\n",
      "          20       0.77      0.75      0.76       800\n",
      "          21       0.79      0.82      0.81       800\n",
      "          22       0.72      0.86      0.79       800\n",
      "          23       0.94      0.86      0.90       800\n",
      "          24       0.91      0.77      0.83       800\n",
      "          25       0.75      0.72      0.74       800\n",
      "          26       0.91      0.91      0.91       800\n",
      "\n",
      "    accuracy                           0.77     20800\n",
      "   macro avg       0.78      0.77      0.77     20800\n",
      "weighted avg       0.78      0.77      0.77     20800\n",
      "\n"
     ]
    }
   ],
   "source": [
    "let_y_pred = let_KNN_clf.predict(let_X_test)\n",
    "print(classification_report(let_y_test, let_y_pred))"
   ]
  },
  {
   "cell_type": "markdown",
   "metadata": {},
   "source": [
    "## Balanced Dataset"
   ]
  },
  {
   "cell_type": "code",
   "execution_count": 75,
   "metadata": {},
   "outputs": [],
   "source": [
    "#Multi-Class Classification\n",
    "bal_MLP_clf = MLPClassifier(random_state=1, max_iter=300).fit(bal_X_train, bal_y_train)"
   ]
  },
  {
   "cell_type": "code",
   "execution_count": 76,
   "metadata": {},
   "outputs": [],
   "source": [
    "with open('bal_MLP_clf.pickle', 'wb') as f:\n",
    "    pk.dump(bal_MLP_clf,f)"
   ]
  },
  {
   "cell_type": "code",
   "execution_count": 77,
   "metadata": {},
   "outputs": [
    {
     "name": "stdout",
     "output_type": "stream",
     "text": [
      "Fitting 2 folds for each of 9 candidates, totalling 18 fits\n",
      "[CV] clf__n_neighbors=1 ..............................................\n"
     ]
    },
    {
     "name": "stderr",
     "output_type": "stream",
     "text": [
      "[Parallel(n_jobs=1)]: Using backend SequentialBackend with 1 concurrent workers.\n"
     ]
    },
    {
     "name": "stdout",
     "output_type": "stream",
     "text": [
      "[CV] .................. clf__n_neighbors=1, score=0.625, total= 1.2min\n",
      "[CV] clf__n_neighbors=1 ..............................................\n"
     ]
    },
    {
     "name": "stderr",
     "output_type": "stream",
     "text": [
      "[Parallel(n_jobs=1)]: Done   1 out of   1 | elapsed:  1.2min remaining:    0.0s\n"
     ]
    },
    {
     "name": "stdout",
     "output_type": "stream",
     "text": [
      "[CV] .................. clf__n_neighbors=1, score=0.634, total= 1.1min\n",
      "[CV] clf__n_neighbors=2 ..............................................\n"
     ]
    },
    {
     "name": "stderr",
     "output_type": "stream",
     "text": [
      "[Parallel(n_jobs=1)]: Done   2 out of   2 | elapsed:  2.4min remaining:    0.0s\n"
     ]
    },
    {
     "name": "stdout",
     "output_type": "stream",
     "text": [
      "[CV] .................. clf__n_neighbors=2, score=0.599, total= 1.2min\n",
      "[CV] clf__n_neighbors=2 ..............................................\n",
      "[CV] .................. clf__n_neighbors=2, score=0.595, total= 1.2min\n",
      "[CV] clf__n_neighbors=3 ..............................................\n",
      "[CV] .................. clf__n_neighbors=3, score=0.611, total= 1.2min\n",
      "[CV] clf__n_neighbors=3 ..............................................\n",
      "[CV] .................. clf__n_neighbors=3, score=0.623, total= 1.0min\n",
      "[CV] clf__n_neighbors=4 ..............................................\n",
      "[CV] .................. clf__n_neighbors=4, score=0.617, total= 1.1min\n",
      "[CV] clf__n_neighbors=4 ..............................................\n",
      "[CV] .................. clf__n_neighbors=4, score=0.634, total= 1.0min\n",
      "[CV] clf__n_neighbors=5 ..............................................\n",
      "[CV] .................. clf__n_neighbors=5, score=0.622, total= 1.1min\n",
      "[CV] clf__n_neighbors=5 ..............................................\n",
      "[CV] .................. clf__n_neighbors=5, score=0.631, total= 1.1min\n",
      "[CV] clf__n_neighbors=6 ..............................................\n",
      "[CV] .................. clf__n_neighbors=6, score=0.623, total= 1.3min\n",
      "[CV] clf__n_neighbors=6 ..............................................\n",
      "[CV] .................. clf__n_neighbors=6, score=0.632, total= 1.0min\n",
      "[CV] clf__n_neighbors=7 ..............................................\n",
      "[CV] .................. clf__n_neighbors=7, score=0.624, total=  53.2s\n",
      "[CV] clf__n_neighbors=7 ..............................................\n",
      "[CV] .................. clf__n_neighbors=7, score=0.631, total=  51.3s\n",
      "[CV] clf__n_neighbors=8 ..............................................\n",
      "[CV] .................. clf__n_neighbors=8, score=0.624, total=  51.5s\n",
      "[CV] clf__n_neighbors=8 ..............................................\n",
      "[CV] .................. clf__n_neighbors=8, score=0.626, total=  53.8s\n",
      "[CV] clf__n_neighbors=9 ..............................................\n",
      "[CV] .................. clf__n_neighbors=9, score=0.621, total=  53.5s\n",
      "[CV] clf__n_neighbors=9 ..............................................\n",
      "[CV] .................. clf__n_neighbors=9, score=0.624, total=  53.7s\n"
     ]
    },
    {
     "name": "stderr",
     "output_type": "stream",
     "text": [
      "[Parallel(n_jobs=1)]: Done  18 out of  18 | elapsed: 18.9min finished\n"
     ]
    }
   ],
   "source": [
    "# KNN plus HPO with GridSearch\n",
    "pipeline = Pipeline([('clf',KNeighborsClassifier())])\n",
    "# Define hyperparameter grid\n",
    "param_grid = {'clf__n_neighbors':range(1,10)}\n",
    "#GridSearchCV to perform HPO pipeline\n",
    "bal_KNN_clf = GridSearchCV(pipeline, param_grid,verbose=3, cv = 2).fit(bal_X_train[:10000], bal_y_train[:10000])"
   ]
  },
  {
   "cell_type": "code",
   "execution_count": 78,
   "metadata": {},
   "outputs": [],
   "source": [
    "with open('bal_KNN_clf.pickle', 'wb') as f:\n",
    "    pk.dump(bal_KNN_clf,f)"
   ]
  },
  {
   "cell_type": "markdown",
   "metadata": {},
   "source": [
    "Classification Report (MLP) - ***Balanced Dataset***"
   ]
  },
  {
   "cell_type": "code",
   "execution_count": 79,
   "metadata": {},
   "outputs": [
    {
     "name": "stdout",
     "output_type": "stream",
     "text": [
      "              precision    recall  f1-score   support\n",
      "\n",
      "           0       0.49      0.70      0.58       400\n",
      "           1       0.54      0.41      0.47       400\n",
      "           2       0.71      0.72      0.72       400\n",
      "           3       0.91      0.72      0.81       400\n",
      "           4       0.62      0.66      0.64       400\n",
      "           5       0.56      0.79      0.66       400\n",
      "           6       0.70      0.74      0.72       400\n",
      "           7       0.90      0.89      0.90       400\n",
      "           8       0.63      0.64      0.63       400\n",
      "           9       0.57      0.42      0.48       400\n",
      "          10       0.54      0.78      0.64       400\n",
      "          11       0.79      0.61      0.69       400\n",
      "          12       0.74      0.76      0.75       400\n",
      "          13       0.80      0.55      0.65       400\n",
      "          14       0.83      0.75      0.79       400\n",
      "          15       0.53      0.50      0.51       400\n",
      "          16       0.62      0.81      0.70       400\n",
      "          17       0.78      0.70      0.74       400\n",
      "          18       0.62      0.40      0.49       400\n",
      "          19       0.78      0.71      0.75       400\n",
      "          20       0.80      0.56      0.66       400\n",
      "          21       0.40      0.52      0.45       400\n",
      "          22       0.90      0.75      0.82       400\n",
      "          23       0.66      0.74      0.70       400\n",
      "          24       0.62      0.57      0.59       400\n",
      "          25       0.69      0.79      0.74       400\n",
      "          26       0.72      0.70      0.71       400\n",
      "          27       0.66      0.77      0.71       400\n",
      "          28       0.89      0.32      0.46       400\n",
      "          29       0.83      0.88      0.85       400\n",
      "          30       0.74      0.72      0.73       400\n",
      "          31       0.76      0.84      0.80       400\n",
      "          32       0.83      0.83      0.83       400\n",
      "          33       0.66      0.74      0.70       400\n",
      "          34       0.66      0.71      0.69       400\n",
      "          35       0.75      0.78      0.77       400\n",
      "          36       0.62      0.66      0.64       400\n",
      "          37       0.82      0.78      0.80       400\n",
      "          38       0.88      0.79      0.83       400\n",
      "          39       0.71      0.84      0.77       400\n",
      "          40       0.48      0.37      0.42       400\n",
      "          41       0.38      0.43      0.40       400\n",
      "          42       0.70      0.85      0.77       400\n",
      "          43       0.74      0.77      0.75       400\n",
      "          44       0.30      0.31      0.30       400\n",
      "          45       0.75      0.81      0.78       400\n",
      "          46       0.71      0.64      0.67       400\n",
      "\n",
      "    accuracy                           0.68     18800\n",
      "   macro avg       0.69      0.68      0.67     18800\n",
      "weighted avg       0.69      0.68      0.67     18800\n",
      "\n"
     ]
    }
   ],
   "source": [
    "bal_y_pred = bal_MLP_clf.predict(bal_X_test)\n",
    "print(classification_report(bal_y_test, bal_y_pred))"
   ]
  },
  {
   "cell_type": "markdown",
   "metadata": {},
   "source": [
    "Classification Report (KNN) - ***Balanced Dataset***"
   ]
  },
  {
   "cell_type": "code",
   "execution_count": 80,
   "metadata": {},
   "outputs": [
    {
     "name": "stdout",
     "output_type": "stream",
     "text": [
      "              precision    recall  f1-score   support\n",
      "\n",
      "           0       0.45      0.58      0.51       400\n",
      "           1       0.32      0.49      0.39       400\n",
      "           2       0.75      0.69      0.72       400\n",
      "           3       0.77      0.88      0.82       400\n",
      "           4       0.70      0.64      0.67       400\n",
      "           5       0.72      0.58      0.64       400\n",
      "           6       0.76      0.81      0.79       400\n",
      "           7       0.81      0.93      0.87       400\n",
      "           8       0.74      0.67      0.71       400\n",
      "           9       0.49      0.64      0.55       400\n",
      "          10       0.85      0.64      0.73       400\n",
      "          11       0.79      0.46      0.58       400\n",
      "          12       0.68      0.86      0.76       400\n",
      "          13       0.79      0.57      0.66       400\n",
      "          14       0.83      0.73      0.78       400\n",
      "          15       0.43      0.40      0.42       400\n",
      "          16       0.84      0.61      0.71       400\n",
      "          17       0.80      0.72      0.76       400\n",
      "          18       0.42      0.49      0.45       400\n",
      "          19       0.72      0.76      0.74       400\n",
      "          20       0.80      0.65      0.72       400\n",
      "          21       0.29      0.41      0.34       400\n",
      "          22       0.91      0.82      0.87       400\n",
      "          23       0.75      0.80      0.77       400\n",
      "          24       0.46      0.65      0.54       400\n",
      "          25       0.69      0.72      0.70       400\n",
      "          26       0.83      0.48      0.61       400\n",
      "          27       0.75      0.52      0.61       400\n",
      "          28       0.61      0.76      0.68       400\n",
      "          29       0.78      0.80      0.79       400\n",
      "          30       0.70      0.79      0.74       400\n",
      "          31       0.73      0.83      0.78       400\n",
      "          32       0.91      0.84      0.88       400\n",
      "          33       0.83      0.75      0.79       400\n",
      "          34       0.67      0.57      0.62       400\n",
      "          35       0.77      0.75      0.76       400\n",
      "          36       0.60      0.61      0.60       400\n",
      "          37       0.72      0.78      0.75       400\n",
      "          38       0.86      0.81      0.84       400\n",
      "          39       0.74      0.81      0.77       400\n",
      "          40       0.51      0.52      0.51       400\n",
      "          41       0.42      0.29      0.34       400\n",
      "          42       0.72      0.77      0.75       400\n",
      "          43       0.75      0.80      0.77       400\n",
      "          44       0.38      0.26      0.31       400\n",
      "          45       0.67      0.90      0.77       400\n",
      "          46       0.64      0.54      0.58       400\n",
      "\n",
      "    accuracy                           0.67     18800\n",
      "   macro avg       0.68      0.67      0.67     18800\n",
      "weighted avg       0.68      0.67      0.67     18800\n",
      "\n"
     ]
    }
   ],
   "source": [
    "bal_y_pred = bal_KNN_clf.predict(bal_X_test)\n",
    "print(classification_report(bal_y_test, bal_y_pred))"
   ]
  },
  {
   "cell_type": "code",
   "execution_count": null,
   "metadata": {},
   "outputs": [],
   "source": []
  }
 ],
 "metadata": {
  "kernelspec": {
   "display_name": "Python 3",
   "language": "python",
   "name": "python3"
  },
  "language_info": {
   "codemirror_mode": {
    "name": "ipython",
    "version": 3
   },
   "file_extension": ".py",
   "mimetype": "text/x-python",
   "name": "python",
   "nbconvert_exporter": "python",
   "pygments_lexer": "ipython3",
   "version": "3.8.2"
  }
 },
 "nbformat": 4,
 "nbformat_minor": 4
}
