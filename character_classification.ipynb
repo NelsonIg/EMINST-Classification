{
 "cells": [
  {
   "cell_type": "markdown",
   "metadata": {},
   "source": [
    "# Master Colloqium - Character Recognition"
   ]
  },
  {
   "cell_type": "code",
   "execution_count": 1,
   "metadata": {},
   "outputs": [],
   "source": [
    "#!pip install emnist\n",
    "#!python -c \"import emnist; emnist.ensure_cached_data()\""
   ]
  },
  {
   "cell_type": "code",
   "execution_count": 2,
   "metadata": {},
   "outputs": [],
   "source": [
    "from emnist import extract_training_samples, extract_test_samples, list_datasets\n",
    "from sklearn.neural_network import MLPClassifier\n",
    "from sklearn.metrics import classification_report\n",
    "from sklearn.neighbors import KNeighborsClassifier\n",
    "from sklearn.pipeline import Pipeline\n",
    "from sklearn.model_selection import train_test_split, GridSearchCV\n",
    "import numpy as np\n",
    "import matplotlib.pyplot as plt\n",
    "import pickle as pk"
   ]
  },
  {
   "cell_type": "markdown",
   "metadata": {},
   "source": [
    "## Data Sets"
   ]
  },
  {
   "cell_type": "code",
   "execution_count": 3,
   "metadata": {},
   "outputs": [],
   "source": [
    "# Defining data sets\n",
    "#digits only\n",
    "dig_im_train, dig_y_train = extract_training_samples('digits')\n",
    "dig_im_test, dig_y_test = extract_test_samples('digits')\n",
    "#letters only\n",
    "let_im_train, let_y_train = extract_training_samples('letters')\n",
    "let_im_test, let_y_test = extract_test_samples('letters')"
   ]
  },
  {
   "cell_type": "markdown",
   "metadata": {},
   "source": [
    "Reshape images to vectors"
   ]
  },
  {
   "cell_type": "code",
   "execution_count": 4,
   "metadata": {},
   "outputs": [
    {
     "name": "stdout",
     "output_type": "stream",
     "text": [
      "(240000, 784) (40000, 784)\n",
      "(124800, 784) (20800, 784)\n"
     ]
    }
   ],
   "source": [
    "#digit vectors\n",
    "dig_X_train = dig_im_train[:].reshape(dig_im_train.shape[0],dig_im_train.shape[1]**2)\n",
    "dig_X_test = dig_im_test[:].reshape(dig_im_test.shape[0],dig_im_test.shape[1]**2)\n",
    "print(dig_X_train.shape, dig_X_test.shape)\n",
    "#letter vectors\n",
    "let_X_train = let_im_train[:].reshape(let_im_train.shape[0],let_im_train.shape[1]**2)\n",
    "let_X_test = let_im_test[:].reshape(let_im_test.shape[0],let_im_test.shape[1]**2)\n",
    "print(let_X_train.shape, let_X_test.shape)"
   ]
  },
  {
   "cell_type": "markdown",
   "metadata": {},
   "source": [
    "## Classifiers"
   ]
  },
  {
   "cell_type": "code",
   "execution_count": 5,
   "metadata": {},
   "outputs": [],
   "source": [
    "#Multi-Class Classification\n",
    "dig_MLP_clf = MLPClassifier(random_state=1, max_iter=300).fit(dig_X_train, dig_y_train)"
   ]
  },
  {
   "cell_type": "code",
   "execution_count": null,
   "metadata": {},
   "outputs": [
    {
     "name": "stdout",
     "output_type": "stream",
     "text": [
      "Fitting 2 folds for each of 9 candidates, totalling 18 fits\n",
      "[CV] clf__n_neighbors=1 ..............................................\n"
     ]
    },
    {
     "name": "stderr",
     "output_type": "stream",
     "text": [
      "[Parallel(n_jobs=1)]: Using backend SequentialBackend with 1 concurrent workers.\n"
     ]
    },
    {
     "name": "stdout",
     "output_type": "stream",
     "text": [
      "[CV] .................. clf__n_neighbors=1, score=0.933, total=  50.1s\n",
      "[CV] clf__n_neighbors=1 ..............................................\n"
     ]
    },
    {
     "name": "stderr",
     "output_type": "stream",
     "text": [
      "[Parallel(n_jobs=1)]: Done   1 out of   1 | elapsed:   50.0s remaining:    0.0s\n"
     ]
    },
    {
     "name": "stdout",
     "output_type": "stream",
     "text": [
      "[CV] .................. clf__n_neighbors=1, score=0.940, total=  47.6s\n",
      "[CV] clf__n_neighbors=2 ..............................................\n"
     ]
    },
    {
     "name": "stderr",
     "output_type": "stream",
     "text": [
      "[Parallel(n_jobs=1)]: Done   2 out of   2 | elapsed:  1.6min remaining:    0.0s\n"
     ]
    },
    {
     "name": "stdout",
     "output_type": "stream",
     "text": [
      "[CV] .................. clf__n_neighbors=2, score=0.918, total=  47.6s\n",
      "[CV] clf__n_neighbors=2 ..............................................\n",
      "[CV] .................. clf__n_neighbors=2, score=0.926, total=  46.7s\n",
      "[CV] clf__n_neighbors=3 ..............................................\n",
      "[CV] .................. clf__n_neighbors=3, score=0.932, total=  46.5s\n",
      "[CV] clf__n_neighbors=3 ..............................................\n",
      "[CV] .................. clf__n_neighbors=3, score=0.940, total=  44.1s\n",
      "[CV] clf__n_neighbors=4 ..............................................\n",
      "[CV] .................. clf__n_neighbors=4, score=0.926, total=  47.7s\n",
      "[CV] clf__n_neighbors=4 ..............................................\n",
      "[CV] .................. clf__n_neighbors=4, score=0.934, total=  45.8s\n",
      "[CV] clf__n_neighbors=5 ..............................................\n",
      "[CV] .................. clf__n_neighbors=5, score=0.928, total=  49.1s\n",
      "[CV] clf__n_neighbors=5 ..............................................\n",
      "[CV] .................. clf__n_neighbors=5, score=0.936, total=  49.6s\n",
      "[CV] clf__n_neighbors=6 ..............................................\n"
     ]
    }
   ],
   "source": [
    "# KNN plus HPO with GridSearch\n",
    "pipeline = Pipeline([('clf',KNeighborsClassifier())])\n",
    "# Define hyperparameter grid\n",
    "param_grid = {'clf__n_neighbors':range(1,10)}\n",
    "#GridSearchCV to perform HPO pipeline\n",
    "dig_KNN_clf = GridSearchCV(pipeline, param_grid,verbose=3, cv = 2).fit(dig_X_train[:10000], dig_y_train[:10000])"
   ]
  },
  {
   "cell_type": "code",
   "execution_count": null,
   "metadata": {},
   "outputs": [],
   "source": [
    "print(dig_KNN_clf.best_estimator_)"
   ]
  },
  {
   "cell_type": "markdown",
   "metadata": {},
   "source": [
    "Classification Report (MLP) - **Digits**"
   ]
  },
  {
   "cell_type": "code",
   "execution_count": null,
   "metadata": {},
   "outputs": [],
   "source": [
    "dig_y_pred = dig_MLP_clf.predict(dig_X_test)\n",
    "print(classification_report(dig_y_test, dig_y_pred))"
   ]
  },
  {
   "cell_type": "markdown",
   "metadata": {},
   "source": [
    "Classification Report (KNN) - **Digits**"
   ]
  },
  {
   "cell_type": "code",
   "execution_count": null,
   "metadata": {},
   "outputs": [],
   "source": [
    "dig_y_pred = dig_KNN_clf.predict(dig_X_test[:500])\n",
    "print(classification_report(dig_y_test[:500], dig_y_pred))"
   ]
  },
  {
   "cell_type": "markdown",
   "metadata": {},
   "source": [
    "Store classifiers"
   ]
  },
  {
   "cell_type": "code",
   "execution_count": null,
   "metadata": {},
   "outputs": [],
   "source": [
    "with open('dig_MLP_clf.pickle', 'wb') as f:\n",
    "    pk.dump(dig_MLP_clf,f)\n",
    "with open('dig_KNN_clf.pickle', 'wb') as f:\n",
    "    pk.dump(dig_KNN_clf,f)"
   ]
  }
 ],
 "metadata": {
  "kernelspec": {
   "display_name": "Python 3",
   "language": "python",
   "name": "python3"
  },
  "language_info": {
   "codemirror_mode": {
    "name": "ipython",
    "version": 3
   },
   "file_extension": ".py",
   "mimetype": "text/x-python",
   "name": "python",
   "nbconvert_exporter": "python",
   "pygments_lexer": "ipython3",
   "version": "3.8.2"
  }
 },
 "nbformat": 4,
 "nbformat_minor": 4
}
