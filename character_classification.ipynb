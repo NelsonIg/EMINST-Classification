{
 "cells": [
  {
   "cell_type": "markdown",
   "metadata": {},
   "source": [
    "# Master Colloqium - Character Recognition"
   ]
  },
  {
   "cell_type": "code",
   "execution_count": 1,
   "metadata": {},
   "outputs": [],
   "source": [
    "#!pip install emnist\n",
    "#!python -c \"import emnist; emnist.ensure_cached_data()\""
   ]
  },
  {
   "cell_type": "code",
   "execution_count": 24,
   "metadata": {},
   "outputs": [],
   "source": [
    "from emnist import extract_training_samples, extract_test_samples, list_datasets\n",
    "from sklearn.neural_network import MLPClassifier\n",
    "from sklearn.metrics import classification_report\n",
    "from sklearn.neighbors import KNeighborsClassifier\n",
    "from sklearn.pipeline import Pipeline\n",
    "from sklearn.model_selection import train_test_split, GridSearchCV\n",
    "import numpy as np\n",
    "import matplotlib.pyplot as plt\n",
    "import pickle as pk"
   ]
  },
  {
   "cell_type": "markdown",
   "metadata": {},
   "source": [
    "## Data Sets"
   ]
  },
  {
   "cell_type": "code",
   "execution_count": 3,
   "metadata": {},
   "outputs": [],
   "source": [
    "# Defining data sets\n",
    "#digits only\n",
    "dig_im_train, dig_y_train = extract_training_samples('digits')\n",
    "dig_im_test, dig_y_test = extract_test_samples('digits')\n",
    "#letters only\n",
    "let_im_train, let_y_train = extract_training_samples('letters')\n",
    "let_im_test, let_y_test = extract_test_samples('letters')"
   ]
  },
  {
   "cell_type": "markdown",
   "metadata": {},
   "source": [
    "Reshape images to vectors"
   ]
  },
  {
   "cell_type": "code",
   "execution_count": 4,
   "metadata": {},
   "outputs": [
    {
     "name": "stdout",
     "output_type": "stream",
     "text": [
      "(240000, 784) (40000, 784)\n",
      "(124800, 784) (20800, 784)\n"
     ]
    }
   ],
   "source": [
    "#digit vectors\n",
    "dig_X_train = dig_im_train[:].reshape(dig_im_train.shape[0],dig_im_train.shape[1]**2)\n",
    "dig_X_test = dig_im_test[:].reshape(dig_im_test.shape[0],dig_im_test.shape[1]**2)\n",
    "print(dig_X_train.shape, dig_X_test.shape)\n",
    "#letter vectors\n",
    "let_X_train = let_im_train[:].reshape(let_im_train.shape[0],let_im_train.shape[1]**2)\n",
    "let_X_test = let_im_test[:].reshape(let_im_test.shape[0],let_im_test.shape[1]**2)\n",
    "print(let_X_train.shape, let_X_test.shape)"
   ]
  },
  {
   "cell_type": "markdown",
   "metadata": {},
   "source": [
    "## Classifiers"
   ]
  },
  {
   "cell_type": "markdown",
   "metadata": {},
   "source": [
    "### Digits"
   ]
  },
  {
   "cell_type": "code",
   "execution_count": 5,
   "metadata": {},
   "outputs": [],
   "source": [
    "#Multi-Class Classification\n",
    "dig_MLP_clf = MLPClassifier(random_state=1, max_iter=300).fit(dig_X_train, dig_y_train)"
   ]
  },
  {
   "cell_type": "code",
   "execution_count": null,
   "metadata": {
    "collapsed": true
   },
   "outputs": [
    {
     "name": "stdout",
     "output_type": "stream",
     "text": [
      "Fitting 2 folds for each of 9 candidates, totalling 18 fits\n",
      "[CV] clf__n_neighbors=1 ..............................................\n"
     ]
    },
    {
     "name": "stderr",
     "output_type": "stream",
     "text": [
      "[Parallel(n_jobs=1)]: Using backend SequentialBackend with 1 concurrent workers.\n"
     ]
    },
    {
     "name": "stdout",
     "output_type": "stream",
     "text": [
      "[CV] .................. clf__n_neighbors=1, score=0.933, total=  50.1s\n",
      "[CV] clf__n_neighbors=1 ..............................................\n"
     ]
    },
    {
     "name": "stderr",
     "output_type": "stream",
     "text": [
      "[Parallel(n_jobs=1)]: Done   1 out of   1 | elapsed:   50.0s remaining:    0.0s\n"
     ]
    },
    {
     "name": "stdout",
     "output_type": "stream",
     "text": [
      "[CV] .................. clf__n_neighbors=1, score=0.940, total=  47.6s\n",
      "[CV] clf__n_neighbors=2 ..............................................\n"
     ]
    },
    {
     "name": "stderr",
     "output_type": "stream",
     "text": [
      "[Parallel(n_jobs=1)]: Done   2 out of   2 | elapsed:  1.6min remaining:    0.0s\n"
     ]
    },
    {
     "name": "stdout",
     "output_type": "stream",
     "text": [
      "[CV] .................. clf__n_neighbors=2, score=0.918, total=  47.6s\n",
      "[CV] clf__n_neighbors=2 ..............................................\n",
      "[CV] .................. clf__n_neighbors=2, score=0.926, total=  46.7s\n",
      "[CV] clf__n_neighbors=3 ..............................................\n",
      "[CV] .................. clf__n_neighbors=3, score=0.932, total=  46.5s\n",
      "[CV] clf__n_neighbors=3 ..............................................\n",
      "[CV] .................. clf__n_neighbors=3, score=0.940, total=  44.1s\n",
      "[CV] clf__n_neighbors=4 ..............................................\n",
      "[CV] .................. clf__n_neighbors=4, score=0.926, total=  47.7s\n",
      "[CV] clf__n_neighbors=4 ..............................................\n",
      "[CV] .................. clf__n_neighbors=4, score=0.934, total=  45.8s\n",
      "[CV] clf__n_neighbors=5 ..............................................\n",
      "[CV] .................. clf__n_neighbors=5, score=0.928, total=  49.1s\n",
      "[CV] clf__n_neighbors=5 ..............................................\n",
      "[CV] .................. clf__n_neighbors=5, score=0.936, total=  49.6s\n",
      "[CV] clf__n_neighbors=6 ..............................................\n"
     ]
    }
   ],
   "source": [
    "# KNN plus HPO with GridSearch\n",
    "pipeline = Pipeline([('clf',KNeighborsClassifier())])\n",
    "# Define hyperparameter grid\n",
    "param_grid = {'clf__n_neighbors':range(1,10)}\n",
    "#GridSearchCV to perform HPO pipeline\n",
    "dig_KNN_clf = GridSearchCV(pipeline, param_grid,verbose=3, cv = 2).fit(dig_X_train[:10000], dig_y_train[:10000])"
   ]
  },
  {
   "cell_type": "code",
   "execution_count": null,
   "metadata": {},
   "outputs": [],
   "source": [
    "print(dig_KNN_clf.best_estimator_)"
   ]
  },
  {
   "cell_type": "markdown",
   "metadata": {},
   "source": [
    "Classification Report (MLP) - **Digits**"
   ]
  },
  {
   "cell_type": "code",
   "execution_count": null,
   "metadata": {},
   "outputs": [],
   "source": [
    "dig_y_pred = dig_MLP_clf.predict(dig_X_test)\n",
    "print(classification_report(dig_y_test, dig_y_pred))"
   ]
  },
  {
   "cell_type": "markdown",
   "metadata": {},
   "source": [
    "Classification Report (KNN) - **Digits**"
   ]
  },
  {
   "cell_type": "code",
   "execution_count": null,
   "metadata": {},
   "outputs": [],
   "source": [
    "dig_y_pred = dig_KNN_clf.predict(dig_X_test[:500])\n",
    "print(classification_report(dig_y_test[:500], dig_y_pred))"
   ]
  },
  {
   "cell_type": "code",
   "execution_count": null,
   "metadata": {},
   "outputs": [],
   "source": [
    "with open('dig_MLP_clf.pickle', 'wb') as f:\n",
    "    pk.dump(dig_MLP_clf,f)\n",
    "with open('dig_KNN_clf.pickle', 'wb') as f:\n",
    "    pk.dump(dig_KNN_clf,f)"
   ]
  },
  {
   "cell_type": "markdown",
   "metadata": {},
   "source": [
    "### Letters"
   ]
  },
  {
   "cell_type": "code",
   "execution_count": 5,
   "metadata": {},
   "outputs": [],
   "source": [
    "#Multi-Class Classification\n",
    "let_MLP_clf = MLPClassifier(random_state=1, max_iter=300).fit(let_X_train, let_y_train)\n",
    "with open('let_MLP_clf.pickle', 'wb') as f:\n",
    "    pk.dump(let_MLP_clf,f)"
   ]
  },
  {
   "cell_type": "code",
   "execution_count": 6,
   "metadata": {
    "scrolled": true
   },
   "outputs": [
    {
     "name": "stdout",
     "output_type": "stream",
     "text": [
      "Fitting 2 folds for each of 9 candidates, totalling 18 fits\n",
      "[CV] clf__n_neighbors=1 ..............................................\n"
     ]
    },
    {
     "name": "stderr",
     "output_type": "stream",
     "text": [
      "[Parallel(n_jobs=1)]: Using backend SequentialBackend with 1 concurrent workers.\n"
     ]
    },
    {
     "name": "stdout",
     "output_type": "stream",
     "text": [
      "[CV] .................. clf__n_neighbors=1, score=0.717, total=  50.7s\n",
      "[CV] clf__n_neighbors=1 ..............................................\n"
     ]
    },
    {
     "name": "stderr",
     "output_type": "stream",
     "text": [
      "[Parallel(n_jobs=1)]: Done   1 out of   1 | elapsed:   50.6s remaining:    0.0s\n"
     ]
    },
    {
     "name": "stdout",
     "output_type": "stream",
     "text": [
      "[CV] .................. clf__n_neighbors=1, score=0.725, total=  55.9s\n",
      "[CV] clf__n_neighbors=2 ..............................................\n"
     ]
    },
    {
     "name": "stderr",
     "output_type": "stream",
     "text": [
      "[Parallel(n_jobs=1)]: Done   2 out of   2 | elapsed:  1.8min remaining:    0.0s\n"
     ]
    },
    {
     "name": "stdout",
     "output_type": "stream",
     "text": [
      "[CV] .................. clf__n_neighbors=2, score=0.691, total=  50.6s\n",
      "[CV] clf__n_neighbors=2 ..............................................\n",
      "[CV] .................. clf__n_neighbors=2, score=0.694, total=  49.8s\n",
      "[CV] clf__n_neighbors=3 ..............................................\n",
      "[CV] .................. clf__n_neighbors=3, score=0.717, total=  55.1s\n",
      "[CV] clf__n_neighbors=3 ..............................................\n",
      "[CV] .................. clf__n_neighbors=3, score=0.722, total=  50.2s\n",
      "[CV] clf__n_neighbors=4 ..............................................\n",
      "[CV] .................. clf__n_neighbors=4, score=0.715, total=  55.6s\n",
      "[CV] clf__n_neighbors=4 ..............................................\n",
      "[CV] .................. clf__n_neighbors=4, score=0.719, total=  55.2s\n",
      "[CV] clf__n_neighbors=5 ..............................................\n",
      "[CV] .................. clf__n_neighbors=5, score=0.716, total=  58.1s\n",
      "[CV] clf__n_neighbors=5 ..............................................\n",
      "[CV] .................. clf__n_neighbors=5, score=0.725, total=  52.8s\n",
      "[CV] clf__n_neighbors=6 ..............................................\n",
      "[CV] .................. clf__n_neighbors=6, score=0.710, total=  50.6s\n",
      "[CV] clf__n_neighbors=6 ..............................................\n",
      "[CV] .................. clf__n_neighbors=6, score=0.722, total= 1.2min\n",
      "[CV] clf__n_neighbors=7 ..............................................\n",
      "[CV] .................. clf__n_neighbors=7, score=0.709, total= 1.0min\n",
      "[CV] clf__n_neighbors=7 ..............................................\n",
      "[CV] .................. clf__n_neighbors=7, score=0.716, total=  55.0s\n",
      "[CV] clf__n_neighbors=8 ..............................................\n",
      "[CV] .................. clf__n_neighbors=8, score=0.700, total=  55.2s\n",
      "[CV] clf__n_neighbors=8 ..............................................\n",
      "[CV] .................. clf__n_neighbors=8, score=0.713, total=  55.1s\n",
      "[CV] clf__n_neighbors=9 ..............................................\n",
      "[CV] .................. clf__n_neighbors=9, score=0.696, total=  57.2s\n",
      "[CV] clf__n_neighbors=9 ..............................................\n",
      "[CV] .................. clf__n_neighbors=9, score=0.713, total=  56.7s\n"
     ]
    },
    {
     "name": "stderr",
     "output_type": "stream",
     "text": [
      "[Parallel(n_jobs=1)]: Done  18 out of  18 | elapsed: 16.6min finished\n"
     ]
    }
   ],
   "source": [
    "# KNN plus HPO with GridSearch\n",
    "pipeline = Pipeline([('clf',KNeighborsClassifier())])\n",
    "# Define hyperparameter grid\n",
    "param_grid = {'clf__n_neighbors':range(1,10)}\n",
    "#GridSearchCV to perform HPO pipeline\n",
    "let_KNN_clf = GridSearchCV(pipeline, param_grid,verbose=3, cv = 2).fit(let_X_train[:10000], let_y_train[:10000])\n",
    "with open('let_KNN_clf.pickle', 'wb') as f:\n",
    "    pk.dump(let_KNN_clf,f)"
   ]
  },
  {
   "cell_type": "markdown",
   "metadata": {},
   "source": [
    "Classification Report (MLP) - **letters**"
   ]
  },
  {
   "cell_type": "code",
   "execution_count": 8,
   "metadata": {},
   "outputs": [
    {
     "name": "stdout",
     "output_type": "stream",
     "text": [
      "              precision    recall  f1-score   support\n",
      "\n",
      "           1       0.58      0.70      0.64       800\n",
      "           2       0.85      0.78      0.82       800\n",
      "           3       0.87      0.86      0.86       800\n",
      "           4       0.73      0.81      0.77       800\n",
      "           5       0.83      0.81      0.82       800\n",
      "           6       0.81      0.85      0.83       800\n",
      "           7       0.63      0.63      0.63       800\n",
      "           8       0.79      0.71      0.75       800\n",
      "           9       0.63      0.71      0.67       800\n",
      "          10       0.95      0.78      0.85       800\n",
      "          11       0.66      0.86      0.75       800\n",
      "          12       0.65      0.67      0.66       800\n",
      "          13       0.91      0.87      0.89       800\n",
      "          14       0.80      0.70      0.75       800\n",
      "          15       0.83      0.90      0.86       800\n",
      "          16       0.87      0.88      0.88       800\n",
      "          17       0.61      0.60      0.61       800\n",
      "          18       0.83      0.74      0.78       800\n",
      "          19       0.94      0.89      0.91       800\n",
      "          20       0.82      0.78      0.80       800\n",
      "          21       0.85      0.77      0.80       800\n",
      "          22       0.78      0.87      0.83       800\n",
      "          23       0.83      0.89      0.86       800\n",
      "          24       0.83      0.80      0.82       800\n",
      "          25       0.85      0.78      0.81       800\n",
      "          26       0.92      0.88      0.90       800\n",
      "\n",
      "    accuracy                           0.79     20800\n",
      "   macro avg       0.80      0.79      0.79     20800\n",
      "weighted avg       0.80      0.79      0.79     20800\n",
      "\n"
     ]
    }
   ],
   "source": [
    "let_y_pred = let_MLP_clf.predict(let_X_test)\n",
    "print(classification_report(let_y_test, let_y_pred))"
   ]
  },
  {
   "cell_type": "markdown",
   "metadata": {},
   "source": [
    "Classification Report (KNN) - **letters**"
   ]
  },
  {
   "cell_type": "code",
   "execution_count": 14,
   "metadata": {
    "scrolled": true
   },
   "outputs": [
    {
     "name": "stdout",
     "output_type": "stream",
     "text": [
      "              precision    recall  f1-score   support\n",
      "\n",
      "           1       0.75      0.72      0.74       800\n",
      "           2       0.85      0.64      0.73       800\n",
      "           3       0.74      0.87      0.80       800\n",
      "           4       0.88      0.72      0.79       800\n",
      "           5       0.79      0.79      0.79       800\n",
      "           6       0.82      0.70      0.75       800\n",
      "           7       0.69      0.51      0.59       800\n",
      "           8       0.73      0.78      0.75       800\n",
      "           9       0.53      0.63      0.58       800\n",
      "          10       0.76      0.82      0.79       800\n",
      "          11       0.86      0.70      0.77       800\n",
      "          12       0.44      0.63      0.52       800\n",
      "          13       0.94      0.91      0.93       800\n",
      "          14       0.77      0.79      0.78       800\n",
      "          15       0.74      0.95      0.83       800\n",
      "          16       0.79      0.85      0.82       800\n",
      "          17       0.71      0.50      0.59       800\n",
      "          18       0.72      0.75      0.74       800\n",
      "          19       0.88      0.95      0.91       800\n",
      "          20       0.77      0.75      0.76       800\n",
      "          21       0.79      0.82      0.81       800\n",
      "          22       0.72      0.86      0.79       800\n",
      "          23       0.94      0.86      0.90       800\n",
      "          24       0.91      0.77      0.83       800\n",
      "          25       0.75      0.72      0.74       800\n",
      "          26       0.91      0.91      0.91       800\n",
      "\n",
      "    accuracy                           0.77     20800\n",
      "   macro avg       0.78      0.77      0.77     20800\n",
      "weighted avg       0.78      0.77      0.77     20800\n",
      "\n"
     ]
    }
   ],
   "source": [
    "let_y_pred = let_KNN_clf.predict(let_X_test)\n",
    "print(classification_report(let_y_test, let_y_pred))"
   ]
  },
  {
   "cell_type": "markdown",
   "metadata": {},
   "source": [
    "# GUI"
   ]
  },
  {
   "cell_type": "code",
   "execution_count": 23,
   "metadata": {},
   "outputs": [],
   "source": [
    "import tkinter as tk\n",
    "from PIL import ImageTk, Image, ImageDraw\n",
    "import cv2 as cv\n",
    "\n",
    "with open('let_KNN_clf.pickle','rb') as f:\n",
    "    letg_KNN_clf = pk.load(f)\n",
    "with open('dig_KNN_clf.pickle','rb') as f:\n",
    "    dig_KNN_clf = pk.load(f)\n",
    "with open('dig_MLP_clf.pickle','rb') as f:\n",
    "    dig_MLP_clf = pk.load(f)\n",
    "with open('let_MLP_clf.pickle', 'rb') as f:\n",
    "    let_MLP_clf = pk.load(f)"
   ]
  },
  {
   "cell_type": "code",
   "execution_count": 37,
   "metadata": {},
   "outputs": [],
   "source": [
    "class Gui:\n",
    "    ''' - Display a GUI to allow classification of handwritten characters\n",
    "        - Use start() to run GUI, respective classifier as argument needed\n",
    "    '''\n",
    "    \n",
    "    #window + canvas to draw on\n",
    "    im_w, im_h = (224,224)\n",
    "    # invisible image for copying canvas\n",
    "    __img = Image.new('L',(im_w, im_h))\n",
    "    __draw_Obj = ImageDraw.Draw(__img)\n",
    "    #canvas\n",
    "    canvas = None\n",
    "    #text windows\n",
    "    textPred = None\n",
    "    entryAcc = None\n",
    "\n",
    "    # attributes for calculating accuracy\n",
    "    __mean = 0\n",
    "    __tries = 0\n",
    "    # Classifier\n",
    "    __clf = None\n",
    "\n",
    "    @classmethod\n",
    "    def __draw(cls, event):\n",
    "        #draw white line on black background\n",
    "        offs = 10\n",
    "        #draws on the canvas and on an invisible image that contains the same drawing\n",
    "        cls.canvas.create_oval((event.x-offs),(event.y-offs), event.x+offs, event.y+offs, fill='white', outline ='white')\n",
    "        cls.__draw_Obj.ellipse([(event.x-offs),(event.y-offs), event.x+offs, event.y+offs], fill='white')\n",
    "\n",
    "    @classmethod\n",
    "    def __del_img(cls):\n",
    "\n",
    "        cls.canvas.delete('all')\n",
    "        #delete img by reinitializing it\n",
    "        cls.__img = Image.new('L',(cls.im_w, cls.im_h))\n",
    "        cls.__draw_Obj = ImageDraw.Draw(cls.__img)\n",
    "        #delete prediction output\n",
    "        cls.textPred.delete(1.0,tk.END)\n",
    "\n",
    "    \n",
    "    @classmethod\n",
    "    def __predict_letters(cls):\n",
    "        '''predict letters,and display classification\n",
    "        '''\n",
    "        cls.__img.save('img.png')\n",
    "        im = cv.imread('img.png',cv.IMREAD_GRAYSCALE)\n",
    "        im = cv.GaussianBlur(im,(5,5),1)\n",
    "        im = cv.resize(im, dsize = (28,28),interpolation=cv.INTER_AREA)\n",
    "        im = im.reshape(1,-1)\n",
    "        pred  = cls.__clf.predict(im)\n",
    "        #print prediction\n",
    "        offset = 64 # A --> 65\n",
    "        cls.textPred.delete(1.0,tk.END)\n",
    "        cls.textPred.insert(tk.INSERT,f'class: {pred[0]}\\nascii: '+chr(offset + pred[0]))\n",
    "        \n",
    "    @classmethod\n",
    "    def __predict_all(cls):\n",
    "        '''predict characters,and display classification\n",
    "        '''\n",
    "        cls.__img.save('img.png')\n",
    "        im = cv.imread('img.png',cv.IMREAD_GRAYSCALE)\n",
    "        im = cv.GaussianBlur(im,(5,5),1)\n",
    "        im = cv.resize(im, dsize = (28,28),interpolation=cv.INTER_AREA)\n",
    "        im = im.reshape(1,-1)\n",
    "        pred  = cls.__clf.predict(im)\n",
    "        #print prediction\n",
    "        if pred<= 9:\n",
    "            offset = 48 # 0--> 48\n",
    "        elif pred <36:\n",
    "            offset = 55 # A --> 65\n",
    "        else:\n",
    "            offset = 60# a --> 97\n",
    "        cls.textPred.delete(1.0,tk.END)\n",
    "        cls.textPred.insert(tk.INSERT,f'class: {pred[0]}\\nascii: '+chr(offset + pred[0]))\n",
    "\n",
    "    #detecting the mean of user digits in percent   \n",
    "    @classmethod\n",
    "    def __yes(cls):\n",
    "        '''Correct classification, adjust accuracy'''\n",
    "        cls.__tries +=1\n",
    "        cls.__mean = cls.__mean*(cls.__tries-1)/cls.__tries + 1/cls.__tries\n",
    "        cls.entryAcc.delete(0,tk.END)\n",
    "        cls.entryAcc.insert(tk.INSERT,str(round(cls.__mean*100,1))+'%')\n",
    "        cls.__del_img()\n",
    "\n",
    "    @classmethod\n",
    "    def __no(cls):\n",
    "        '''wrong classification, adjust accuracy'''\n",
    "        cls.__tries +=1\n",
    "        cls.__mean = cls.__mean*(cls.__tries-1)/cls.__tries\n",
    "        cls.entryAcc.delete(0,tk.END)\n",
    "        cls.entryAcc.insert(tk.INSERT,str(round(cls.__mean*100,1))+'%')\n",
    "        cls.__del_img()\n",
    "\n",
    "    @classmethod\n",
    "    def __key_yes_no(cls, event):\n",
    "        key = event.char\n",
    "        if key == 'n' or key == 'N':\n",
    "            cls.__no()\n",
    "        if key == 'y' or key == 'Y':\n",
    "            cls.__yes()\n",
    "        if key == 'r' or key == 'R':\n",
    "            cls.__reset()\n",
    "\n",
    "    @classmethod\n",
    "    def __reset(cls):\n",
    "        '''reset calculation of accuracy'''\n",
    "        cls.__mean = 0\n",
    "        cls.__tries = 0\n",
    "        cls.entryAcc.delete(0,tk.END)\n",
    "\n",
    "\n",
    "    @classmethod\n",
    "    def start(cls, clf):\n",
    "        # set classifier\n",
    "        cls.__clf = clf\n",
    "        m = tk.Tk()\n",
    "        m.minsize(300,300)\n",
    "\n",
    "        # canvas to draw on\n",
    "        cls.canvas = tk.Canvas(m, width=cls.im_w, height=cls.im_h, bg = 'black')\n",
    "        cls.canvas.grid(row = 0, column = 1,columnspan=5 ,rowspan = 8)\n",
    "        cls.canvas.x_old = None\n",
    "        cls.canvas.y_old = None\n",
    "        cls.canvas.x_new = None\n",
    "        cls.canvas.y_new = None\n",
    "        cls.canvas.winfo_height\n",
    "        m.bind('<B1-Motion>', cls.__draw)\n",
    "\n",
    "        #Buttons\n",
    "        buttonDelete = tk.Button(m, text='delete',width=10,height = 1,command=cls.__del_img)\n",
    "        buttonDelete.grid(row = 0, column = 0)\n",
    "\n",
    "        buttonPred_all = tk.Button(m, text='predict all',width=20,height = 1,command=cls.__predict_all)\n",
    "        buttonPred_all.grid(row = 1, column = 0)\n",
    "        buttonPred_let = tk.Button(m, text='predict letters',width=20,height = 1,command=cls.__predict_letters)\n",
    "        buttonPred_let.grid(row = 2, column = 0)\n",
    "        labelPred =tk.Label(m, text='Prediction:')\n",
    "        labelPred.grid(row = 3, column = 0)\n",
    "        cls.textPred = tk.Text(m,width = 10, height = 2, font = 15)\n",
    "        cls.textPred.grid(row = 4, column = 0)\n",
    "\n",
    "        buttonYes = tk.Button(m, text='Yes [y]',width=10,height = 1,bg ='green', command=cls.__yes)\n",
    "        buttonYes.grid(row = 5, column = 0)\n",
    "        buttonNo = tk.Button(m, text='No [n]',width=10,height = 1,bg ='red', command=cls.__no)\n",
    "        buttonNo.grid(row = 6, column = 0)\n",
    "\n",
    "        #bind 'n' and 'y' keyboard\n",
    "        m.bind('<Key>', cls.__key_yes_no)\n",
    "\n",
    "\n",
    "        labelAcc =tk.Label(m, text='Accuracy:')\n",
    "        labelAcc.grid(row = 7, column = 0)\n",
    "        cls.entryAcc = tk.Entry(m,width = 10, font = 15)\n",
    "        cls.entryAcc.grid(row = 8, column = 0)\n",
    "        buttonReset = tk.Button(m, text='Reset % [r]',width=10,height = 1,bg ='grey', command=cls.__reset)\n",
    "        buttonReset.grid(row = 8, column = 2)\n",
    "\n",
    "\n",
    "        m.mainloop()\n",
    "        "
   ]
  },
  {
   "cell_type": "code",
   "execution_count": 38,
   "metadata": {},
   "outputs": [],
   "source": [
    "Gui.start(let_KNN_clf)"
   ]
  },
  {
   "cell_type": "code",
   "execution_count": null,
   "metadata": {},
   "outputs": [],
   "source": []
  }
 ],
 "metadata": {
  "kernelspec": {
   "display_name": "Python 3",
   "language": "python",
   "name": "python3"
  },
  "language_info": {
   "codemirror_mode": {
    "name": "ipython",
    "version": 3
   },
   "file_extension": ".py",
   "mimetype": "text/x-python",
   "name": "python",
   "nbconvert_exporter": "python",
   "pygments_lexer": "ipython3",
   "version": "3.8.2"
  }
 },
 "nbformat": 4,
 "nbformat_minor": 4
}
