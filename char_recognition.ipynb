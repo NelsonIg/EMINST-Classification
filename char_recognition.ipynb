{
 "cells": [
  {
   "cell_type": "markdown",
   "metadata": {},
   "source": [
    "# Find Characters and Predict Label from given Image"
   ]
  },
  {
   "cell_type": "code",
   "execution_count": 1,
   "metadata": {},
   "outputs": [],
   "source": [
    "import cv2 as cv\n",
    "import pickle as pk\n",
    "import numpy as np\n",
    "with open('let_KNN_clf.pickle','rb') as f:\n",
    "    let_KNN_clf = pk.load(f)\n",
    "with open('dig_KNN_clf.pickle','rb') as f:\n",
    "    dig_KNN_clf = pk.load(f)\n",
    "with open('dig_MLP_clf.pickle','rb') as f:\n",
    "    dig_MLP_clf = pk.load(f)\n",
    "with open('let_MLP_clf.pickle', 'rb') as f:\n",
    "    let_MLP_clf = pk.load(f)\n",
    "with open('bal_MLP_clf.pickle','rb') as f:\n",
    "    bal_MLP_clf = pk.load(f)\n",
    "with open('dig_MLP_clf_hog.pickle', 'rb') as f:\n",
    "    dig_MLP_clf_hog = pk.load(f)\n"
   ]
  },
  {
   "cell_type": "code",
   "execution_count": 2,
   "metadata": {},
   "outputs": [],
   "source": [
    "def get_roi_all(image): \n",
    "    ''' find objects in image, return vector of segmented images and respective rectangles'''\n",
    "    # find contours\n",
    "    image = cv.GaussianBlur(image,(5,5),1)\n",
    "    ret, image = cv.threshold(image, 90, 255, cv.THRESH_BINARY_INV)\n",
    "    ctrs, hier = cv.findContours(image.copy(), cv.RETR_EXTERNAL, cv.CHAIN_APPROX_SIMPLE)\n",
    "    # find rectangles\n",
    "    rects = [cv.boundingRect(ctr) for ctr in ctrs]\n",
    "    #copy each object to image vector\n",
    "    #rect = [x, y, width, height]\n",
    "    im_vec = [image[rect[1]-int(rect[3]*0.2):rect[1]+int(rect[3]*1.2), \n",
    "                    rect[0]-int(rect[2]*0.2):rect[0]+int(rect[2]*1.2)] for rect in rects]\n",
    "    return im_vec, rects\n",
    "\n",
    "def draw_named_rect(image, rectangle, text):\n",
    "    '''draw rectangle and name it'''\n",
    "    rect = rectangle\n",
    "    img = image\n",
    "    cv.rectangle(img, (rect[0],rect[1]),(rect[0]+rect[2],rect[1]+rect[3]), 0, 1)\n",
    "    cv.putText(img, text,(rect[0],rect[1]-10), cv.FONT_HERSHEY_SIMPLEX, 0.9,0, 1)\n",
    "    return img\n",
    "      \n",
    "def adjust_img(image, width, height):\n",
    "    '''resize to (height, width)'''\n",
    "    image = cv.resize(image, dsize = (height,width),interpolation=cv.INTER_AREA)\n",
    "    image_vec = image.reshape(1,-1)\n",
    "    return image_vec\n",
    "\n",
    "def pred_character(classifier, im_vec, target):\n",
    "    '''classifies object and returns ascii code'''\n",
    "    #dictionaries to look up class and character depending on target\n",
    "    balanced_dict = dict(zip([i for i in range(0,47)],\n",
    "                        [str(i) for i in range(0,10)]+['A','B','C','D','E','F','G',\n",
    "                                                      'H','I','J','K','L','M','N','O',\n",
    "                                                      'P','Q','R','S','T','U','V','W',\n",
    "                                                      'X','Y','Z']+['a','b','d','e','f',\n",
    "                                                        'g','h','n','q','r','t']))\n",
    "    letters_dict = dict(zip([i for i in range(1,27)],\n",
    "                           [chr(n) for n in range(65,91)]))\n",
    "    # Prediction\n",
    "    pred  = classifier.predict(np.array(im_vec, 'float64'))\n",
    "    # set character depending on target_type\n",
    "    if target== 'digits' or target == 'all':\n",
    "        pred_char = balanced_dict[pred[0]]\n",
    "    elif target == 'letters':\n",
    "        #classes from 1 to 26 (upper + lower case in one class)\n",
    "        #offset = 64 # A --> 65\n",
    "        pred_char = letters_dict[pred[0]]\n",
    "    else:\n",
    "        raise ValueError('target must be \"digits\", \"all\" or \"letters\"')\n",
    "    return pred, pred_char\n",
    "\n",
    "def start_recognition(image_name, clf, target_type):\n",
    "    '''predict character and draw label on image\n",
    "    '''\n",
    "    #read image\n",
    "    im = cv.imread(image_name,cv.IMREAD_GRAYSCALE)\n",
    "    # find the character in image\n",
    "    images_roi, rects = get_roi_all(im)\n",
    "    for idx, rect in enumerate(rects):\n",
    "        # fit the image to data set\n",
    "        try:\n",
    "            im_vec = adjust_img(images_roi[idx], 28 ,28)\n",
    "        except Exception:\n",
    "            #padding in function get_roi_all() might lead to error\n",
    "            continue\n",
    "        #predict and return ascii code\n",
    "        pred, pred_char = pred_character(clf, im_vec, target_type)\n",
    "        #draw classification\n",
    "        im = draw_named_rect(im, rect, pred_char)\n",
    "    return im\n"
   ]
  },
  {
   "cell_type": "code",
   "execution_count": null,
   "metadata": {},
   "outputs": [],
   "source": [
    "im_in = 'letters_digits.jpg'\n",
    "im_out = start_recognition(im_in, bal_MLP_clf, 'all')\n",
    "cv.imshow('',im_out)\n",
    "cv.waitKey(0)\n",
    "cv.destroyAllWindows()\n",
    "cv.imwrite('letters_digits_out_bal.jpg', im_out)"
   ]
  }
 ],
 "metadata": {
  "kernelspec": {
   "display_name": "Python 3",
   "language": "python",
   "name": "python3"
  },
  "language_info": {
   "codemirror_mode": {
    "name": "ipython",
    "version": 3
   },
   "file_extension": ".py",
   "mimetype": "text/x-python",
   "name": "python",
   "nbconvert_exporter": "python",
   "pygments_lexer": "ipython3",
   "version": "3.8.2"
  }
 },
 "nbformat": 4,
 "nbformat_minor": 4
}
