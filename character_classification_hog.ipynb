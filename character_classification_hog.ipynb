{
 "cells": [
  {
   "cell_type": "markdown",
   "metadata": {},
   "source": [
    "# Master Colloqium - Character Recognition"
   ]
  },
  {
   "cell_type": "code",
   "execution_count": 1,
   "metadata": {},
   "outputs": [],
   "source": [
    "#!pip install emnist\n",
    "#!python -c \"import emnist; emnist.ensure_cached_data()\""
   ]
  },
  {
   "cell_type": "code",
   "execution_count": 1,
   "metadata": {},
   "outputs": [],
   "source": [
    "from emnist import extract_training_samples, extract_test_samples, list_datasets\n",
    "from sklearn.neural_network import MLPClassifier\n",
    "from sklearn.metrics import classification_report\n",
    "from sklearn.neighbors import KNeighborsClassifier\n",
    "from sklearn.pipeline import Pipeline\n",
    "from sklearn.model_selection import train_test_split, GridSearchCV\n",
    "#!pip install scikit-image\n",
    "from skimage.feature import hog\n",
    "import numpy as np\n",
    "import matplotlib.pyplot as plt\n",
    "import pickle as pk"
   ]
  },
  {
   "cell_type": "markdown",
   "metadata": {},
   "source": [
    "## Data Sets"
   ]
  },
  {
   "cell_type": "code",
   "execution_count": 2,
   "metadata": {},
   "outputs": [],
   "source": [
    "# Defining data sets\n",
    "#digits only\n",
    "dig_im_train, dig_y_train = extract_training_samples('digits')\n",
    "dig_im_test, dig_y_test = extract_test_samples('digits')\n",
    "#letters only\n",
    "let_im_train, let_y_train = extract_training_samples('letters')\n",
    "let_im_test, let_y_test = extract_test_samples('letters')"
   ]
  },
  {
   "cell_type": "markdown",
   "metadata": {},
   "source": [
    "## Classifiers"
   ]
  },
  {
   "cell_type": "markdown",
   "metadata": {},
   "source": [
    "### Digits"
   ]
  },
  {
   "cell_type": "markdown",
   "metadata": {},
   "source": [
    "**Hog Feature Extraction**"
   ]
  },
  {
   "cell_type": "code",
   "execution_count": 14,
   "metadata": {},
   "outputs": [],
   "source": [
    "dig_im_train_hog_fd = [hog(im, orientations=9, pixels_per_cell=(14, 14), cells_per_block=(1, 1)) \n",
    "                       for im in dig_im_train]\n",
    "dig_im_test_hog_fd = [hog(im, orientations=9, pixels_per_cell=(14, 14), cells_per_block=(1, 1)) \n",
    "                       for im in dig_im_test]"
   ]
  },
  {
   "cell_type": "code",
   "execution_count": 18,
   "metadata": {},
   "outputs": [
    {
     "name": "stderr",
     "output_type": "stream",
     "text": [
      "C:\\Users\\nelso\\Anaconda3\\envs\\ML_BHT\\lib\\site-packages\\sklearn\\neural_network\\_multilayer_perceptron.py:582: ConvergenceWarning: Stochastic Optimizer: Maximum iterations (500) reached and the optimization hasn't converged yet.\n",
      "  warnings.warn(\n"
     ]
    }
   ],
   "source": [
    "#Multi-Class Classification\n",
    "dig_MLP_clf_hog = MLPClassifier(random_state=1, max_iter=500).fit(dig_im_train_hog_fd[:20000], dig_y_train[:20000])\n",
    "with open('dig_MLP_clf_hog.pickle', 'wb') as f:\n",
    "    pk.dump(dig_MLP_clf_hog,f)"
   ]
  },
  {
   "cell_type": "code",
   "execution_count": 19,
   "metadata": {},
   "outputs": [
    {
     "name": "stdout",
     "output_type": "stream",
     "text": [
      "              precision    recall  f1-score   support\n",
      "\n",
      "           0       0.94      0.94      0.94        64\n",
      "           1       0.91      0.96      0.93        45\n",
      "           2       0.91      0.91      0.91        43\n",
      "           3       0.93      0.86      0.89        59\n",
      "           4       0.97      0.88      0.93        42\n",
      "           5       0.94      0.95      0.95        64\n",
      "           6       0.91      0.94      0.93        53\n",
      "           7       0.86      0.86      0.86        43\n",
      "           8       0.82      0.90      0.86        41\n",
      "           9       0.87      0.85      0.86        46\n",
      "\n",
      "    accuracy                           0.91       500\n",
      "   macro avg       0.91      0.91      0.90       500\n",
      "weighted avg       0.91      0.91      0.91       500\n",
      "\n"
     ]
    }
   ],
   "source": [
    "dig_y_pred = dig_MLP_clf_hog.predict(dig_im_test_hog_fd[:500])\n",
    "print(classification_report(dig_y_test[:500], dig_y_pred))"
   ]
  },
  {
   "cell_type": "markdown",
   "metadata": {},
   "source": [
    "### Letters"
   ]
  }
 ],
 "metadata": {
  "kernelspec": {
   "display_name": "Python 3",
   "language": "python",
   "name": "python3"
  },
  "language_info": {
   "codemirror_mode": {
    "name": "ipython",
    "version": 3
   },
   "file_extension": ".py",
   "mimetype": "text/x-python",
   "name": "python",
   "nbconvert_exporter": "python",
   "pygments_lexer": "ipython3",
   "version": "3.8.2"
  }
 },
 "nbformat": 4,
 "nbformat_minor": 4
}
